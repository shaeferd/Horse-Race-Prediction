{
 "cells": [
  {
   "cell_type": "code",
   "execution_count": 1,
   "metadata": {},
   "outputs": [
    {
     "data": {
      "text/html": [
       "<style>body {\n",
       "    margin: 0;\n",
       "    font-family: Helvetica;\n",
       "}\n",
       "table.dataframe {\n",
       "    border-collapse: collapse;\n",
       "    border: none;\n",
       "}\n",
       "table.dataframe tr {\n",
       "    border: none;\n",
       "}\n",
       "table.dataframe td, table.dataframe th {\n",
       "    margin: 0;\n",
       "    border: 1px solid white;\n",
       "    padding-left: 0.25em;\n",
       "    padding-right: 0.25em;\n",
       "}\n",
       "table.dataframe th:not(:empty) {\n",
       "    background-color: #fec;\n",
       "    text-align: left;\n",
       "    font-weight: normal;\n",
       "}\n",
       "table.dataframe tr:nth-child(2) th:empty {\n",
       "    border-left: none;\n",
       "    border-right: 1px dashed #888;\n",
       "}\n",
       "table.dataframe td {\n",
       "    border: 2px solid #ccf;\n",
       "    background-color: #f4f4ff;\n",
       "}\n",
       "h3 {\n",
       "    color: white;\n",
       "    background-color: black;\n",
       "    padding: 0.5em;\n",
       "}\n",
       "</style>"
      ],
      "text/plain": [
       "<IPython.core.display.HTML object>"
      ]
     },
     "execution_count": 1,
     "metadata": {},
     "output_type": "execute_result"
    }
   ],
   "source": [
    "import pandas as pd\n",
    "import numpy as np\n",
    "import seaborn as sns\n",
    "import matplotlib.pyplot as plt\n",
    "from scipy import stats\n",
    "%matplotlib inline\n",
    "import warnings\n",
    "warnings.filterwarnings('ignore')\n",
    "sns.set_context(\"notebook\")\n",
    "import sklearn.preprocessing as skp\n",
    "import sklearn.decomposition as skd\n",
    "import statsmodels.api as sm\n",
    "import statsmodels.formula.api as smf\n",
    "\n",
    "plt.rcParams.update({'font.size': 19})\n",
    "sns.set(font_scale=1.5)\n",
    "plt.rcParams['figure.figsize'] = 7,4\n",
    "\n",
    "from IPython.core.display import HTML\n",
    "css = open('style-table.css').read() + open('style-notebook.css').read()\n",
    "HTML('<style>{}</style>'.format(css))"
   ]
  },
  {
   "cell_type": "code",
   "execution_count": 2,
   "metadata": {
    "collapsed": true
   },
   "outputs": [],
   "source": [
    "#Read the data into pandas dataframes"
   ]
  },
  {
   "cell_type": "code",
   "execution_count": 3,
   "metadata": {},
   "outputs": [
    {
     "data": {
      "text/html": [
       "<div>\n",
       "<style scoped>\n",
       "    .dataframe tbody tr th:only-of-type {\n",
       "        vertical-align: middle;\n",
       "    }\n",
       "\n",
       "    .dataframe tbody tr th {\n",
       "        vertical-align: top;\n",
       "    }\n",
       "\n",
       "    .dataframe thead th {\n",
       "        text-align: right;\n",
       "    }\n",
       "</style>\n",
       "<table border=\"1\" class=\"dataframe\">\n",
       "  <thead>\n",
       "    <tr style=\"text-align: right;\">\n",
       "      <th></th>\n",
       "      <th>ID</th>\n",
       "      <th>Tipster</th>\n",
       "      <th>Date</th>\n",
       "      <th>Track</th>\n",
       "      <th>Horse</th>\n",
       "      <th>Bet Type</th>\n",
       "      <th>Odds</th>\n",
       "      <th>Result</th>\n",
       "      <th>TipsterActive</th>\n",
       "    </tr>\n",
       "    <tr>\n",
       "      <th>UID</th>\n",
       "      <th></th>\n",
       "      <th></th>\n",
       "      <th></th>\n",
       "      <th></th>\n",
       "      <th></th>\n",
       "      <th></th>\n",
       "      <th></th>\n",
       "      <th></th>\n",
       "      <th></th>\n",
       "    </tr>\n",
       "  </thead>\n",
       "  <tbody>\n",
       "    <tr>\n",
       "      <th>1</th>\n",
       "      <td>1</td>\n",
       "      <td>Tipster A</td>\n",
       "      <td>24/07/2015</td>\n",
       "      <td>Ascot</td>\n",
       "      <td>Fredricka</td>\n",
       "      <td>Win</td>\n",
       "      <td>8.00</td>\n",
       "      <td>Lose</td>\n",
       "      <td>True</td>\n",
       "    </tr>\n",
       "    <tr>\n",
       "      <th>2</th>\n",
       "      <td>2</td>\n",
       "      <td>Tipster A</td>\n",
       "      <td>24/07/2015</td>\n",
       "      <td>Thirsk</td>\n",
       "      <td>Spend A Penny</td>\n",
       "      <td>Win</td>\n",
       "      <td>4.50</td>\n",
       "      <td>Lose</td>\n",
       "      <td>True</td>\n",
       "    </tr>\n",
       "    <tr>\n",
       "      <th>3</th>\n",
       "      <td>3</td>\n",
       "      <td>Tipster A</td>\n",
       "      <td>24/07/2015</td>\n",
       "      <td>York</td>\n",
       "      <td>Straightothepoint</td>\n",
       "      <td>Win</td>\n",
       "      <td>7.00</td>\n",
       "      <td>Lose</td>\n",
       "      <td>True</td>\n",
       "    </tr>\n",
       "    <tr>\n",
       "      <th>4</th>\n",
       "      <td>4</td>\n",
       "      <td>Tipster A</td>\n",
       "      <td>24/07/2015</td>\n",
       "      <td>Newmarket</td>\n",
       "      <td>Miss Inga Sock</td>\n",
       "      <td>Win</td>\n",
       "      <td>5.00</td>\n",
       "      <td>Lose</td>\n",
       "      <td>True</td>\n",
       "    </tr>\n",
       "    <tr>\n",
       "      <th>5</th>\n",
       "      <td>5</td>\n",
       "      <td>Tipster A</td>\n",
       "      <td>25/07/2015</td>\n",
       "      <td>Ascot</td>\n",
       "      <td>Peril</td>\n",
       "      <td>Win</td>\n",
       "      <td>4.33</td>\n",
       "      <td>Win</td>\n",
       "      <td>True</td>\n",
       "    </tr>\n",
       "  </tbody>\n",
       "</table>\n",
       "</div>"
      ],
      "text/plain": [
       "     ID    Tipster        Date      Track              Horse Bet Type  Odds  \\\n",
       "UID                                                                           \n",
       "1     1  Tipster A  24/07/2015      Ascot          Fredricka      Win  8.00   \n",
       "2     2  Tipster A  24/07/2015     Thirsk      Spend A Penny      Win  4.50   \n",
       "3     3  Tipster A  24/07/2015       York  Straightothepoint      Win  7.00   \n",
       "4     4  Tipster A  24/07/2015  Newmarket     Miss Inga Sock      Win  5.00   \n",
       "5     5  Tipster A  25/07/2015      Ascot              Peril      Win  4.33   \n",
       "\n",
       "    Result  TipsterActive  \n",
       "UID                        \n",
       "1     Lose           True  \n",
       "2     Lose           True  \n",
       "3     Lose           True  \n",
       "4     Lose           True  \n",
       "5      Win           True  "
      ]
     },
     "execution_count": 3,
     "metadata": {},
     "output_type": "execute_result"
    }
   ],
   "source": [
    "df_tips = pd.read_csv('tips.csv',index_col='UID',encoding = \"ISO-8859-1\")\n",
    "df_tips.head()"
   ]
  },
  {
   "cell_type": "code",
   "execution_count": 4,
   "metadata": {},
   "outputs": [
    {
     "data": {
      "text/html": [
       "<div>\n",
       "<style scoped>\n",
       "    .dataframe tbody tr th:only-of-type {\n",
       "        vertical-align: middle;\n",
       "    }\n",
       "\n",
       "    .dataframe tbody tr th {\n",
       "        vertical-align: top;\n",
       "    }\n",
       "\n",
       "    .dataframe thead th {\n",
       "        text-align: right;\n",
       "    }\n",
       "</style>\n",
       "<table border=\"1\" class=\"dataframe\">\n",
       "  <thead>\n",
       "    <tr style=\"text-align: right;\">\n",
       "      <th></th>\n",
       "      <th>finishing_position</th>\n",
       "      <th>horse_number</th>\n",
       "      <th>horse_name</th>\n",
       "      <th>horse_id</th>\n",
       "      <th>jockey</th>\n",
       "      <th>trainer</th>\n",
       "      <th>actual_weight</th>\n",
       "      <th>declared_horse_weight</th>\n",
       "      <th>draw</th>\n",
       "      <th>length_behind_winner</th>\n",
       "      <th>running_position_1</th>\n",
       "      <th>running_position_2</th>\n",
       "      <th>running_position_3</th>\n",
       "      <th>running_position_4</th>\n",
       "      <th>finish_time</th>\n",
       "      <th>win_odds</th>\n",
       "      <th>running_position_5</th>\n",
       "      <th>running_position_6</th>\n",
       "      <th>race_id</th>\n",
       "    </tr>\n",
       "  </thead>\n",
       "  <tbody>\n",
       "    <tr>\n",
       "      <th>0</th>\n",
       "      <td>1</td>\n",
       "      <td>1.0</td>\n",
       "      <td>DOUBLE DRAGON</td>\n",
       "      <td>K019</td>\n",
       "      <td>B Prebble</td>\n",
       "      <td>D Cruz</td>\n",
       "      <td>133</td>\n",
       "      <td>1032</td>\n",
       "      <td>1</td>\n",
       "      <td>-</td>\n",
       "      <td>1.0</td>\n",
       "      <td>2.0</td>\n",
       "      <td>2.0</td>\n",
       "      <td>1.0</td>\n",
       "      <td>1.22.33</td>\n",
       "      <td>3.8</td>\n",
       "      <td>NaN</td>\n",
       "      <td>NaN</td>\n",
       "      <td>2014-001</td>\n",
       "    </tr>\n",
       "    <tr>\n",
       "      <th>1</th>\n",
       "      <td>2</td>\n",
       "      <td>2.0</td>\n",
       "      <td>PLAIN BLUE BANNER</td>\n",
       "      <td>S070</td>\n",
       "      <td>D Whyte</td>\n",
       "      <td>D E Ferraris</td>\n",
       "      <td>133</td>\n",
       "      <td>1075</td>\n",
       "      <td>13</td>\n",
       "      <td>2</td>\n",
       "      <td>8.0</td>\n",
       "      <td>9.0</td>\n",
       "      <td>9.0</td>\n",
       "      <td>2.0</td>\n",
       "      <td>1.22.65</td>\n",
       "      <td>8</td>\n",
       "      <td>NaN</td>\n",
       "      <td>NaN</td>\n",
       "      <td>2014-001</td>\n",
       "    </tr>\n",
       "    <tr>\n",
       "      <th>2</th>\n",
       "      <td>3</td>\n",
       "      <td>10.0</td>\n",
       "      <td>GOLDWEAVER</td>\n",
       "      <td>P072</td>\n",
       "      <td>Y T Cheng</td>\n",
       "      <td>Y S Tsui</td>\n",
       "      <td>121</td>\n",
       "      <td>1065</td>\n",
       "      <td>3</td>\n",
       "      <td>2</td>\n",
       "      <td>2.0</td>\n",
       "      <td>1.0</td>\n",
       "      <td>1.0</td>\n",
       "      <td>3.0</td>\n",
       "      <td>1.22.66</td>\n",
       "      <td>5.7</td>\n",
       "      <td>NaN</td>\n",
       "      <td>NaN</td>\n",
       "      <td>2014-001</td>\n",
       "    </tr>\n",
       "    <tr>\n",
       "      <th>3</th>\n",
       "      <td>4</td>\n",
       "      <td>3.0</td>\n",
       "      <td>SUPREME PROFIT</td>\n",
       "      <td>P230</td>\n",
       "      <td>J Moreira</td>\n",
       "      <td>C S Shum</td>\n",
       "      <td>132</td>\n",
       "      <td>1222</td>\n",
       "      <td>2</td>\n",
       "      <td>2</td>\n",
       "      <td>6.0</td>\n",
       "      <td>4.0</td>\n",
       "      <td>5.0</td>\n",
       "      <td>4.0</td>\n",
       "      <td>1.22.66</td>\n",
       "      <td>6.1</td>\n",
       "      <td>NaN</td>\n",
       "      <td>NaN</td>\n",
       "      <td>2014-001</td>\n",
       "    </tr>\n",
       "    <tr>\n",
       "      <th>4</th>\n",
       "      <td>5</td>\n",
       "      <td>7.0</td>\n",
       "      <td>THE ONLY KID</td>\n",
       "      <td>H173</td>\n",
       "      <td>Z Purton</td>\n",
       "      <td>K W Lui</td>\n",
       "      <td>125</td>\n",
       "      <td>1136</td>\n",
       "      <td>9</td>\n",
       "      <td>4-1/4</td>\n",
       "      <td>9.0</td>\n",
       "      <td>10.0</td>\n",
       "      <td>10.0</td>\n",
       "      <td>5.0</td>\n",
       "      <td>1.23.02</td>\n",
       "      <td>6.1</td>\n",
       "      <td>NaN</td>\n",
       "      <td>NaN</td>\n",
       "      <td>2014-001</td>\n",
       "    </tr>\n",
       "  </tbody>\n",
       "</table>\n",
       "</div>"
      ],
      "text/plain": [
       "  finishing_position  horse_number         horse_name horse_id     jockey  \\\n",
       "0                  1           1.0      DOUBLE DRAGON     K019  B Prebble   \n",
       "1                  2           2.0  PLAIN BLUE BANNER     S070    D Whyte   \n",
       "2                  3          10.0         GOLDWEAVER     P072  Y T Cheng   \n",
       "3                  4           3.0     SUPREME PROFIT     P230  J Moreira   \n",
       "4                  5           7.0       THE ONLY KID     H173   Z Purton   \n",
       "\n",
       "        trainer actual_weight declared_horse_weight draw length_behind_winner  \\\n",
       "0        D Cruz           133                  1032    1                    -   \n",
       "1  D E Ferraris           133                  1075   13                    2   \n",
       "2      Y S Tsui           121                  1065    3                    2   \n",
       "3      C S Shum           132                  1222    2                    2   \n",
       "4       K W Lui           125                  1136    9                4-1/4   \n",
       "\n",
       "   running_position_1  running_position_2  running_position_3  \\\n",
       "0                 1.0                 2.0                 2.0   \n",
       "1                 8.0                 9.0                 9.0   \n",
       "2                 2.0                 1.0                 1.0   \n",
       "3                 6.0                 4.0                 5.0   \n",
       "4                 9.0                10.0                10.0   \n",
       "\n",
       "   running_position_4 finish_time win_odds  running_position_5  \\\n",
       "0                 1.0     1.22.33      3.8                 NaN   \n",
       "1                 2.0     1.22.65        8                 NaN   \n",
       "2                 3.0     1.22.66      5.7                 NaN   \n",
       "3                 4.0     1.22.66      6.1                 NaN   \n",
       "4                 5.0     1.23.02      6.1                 NaN   \n",
       "\n",
       "   running_position_6   race_id  \n",
       "0                 NaN  2014-001  \n",
       "1                 NaN  2014-001  \n",
       "2                 NaN  2014-001  \n",
       "3                 NaN  2014-001  \n",
       "4                 NaN  2014-001  "
      ]
     },
     "execution_count": 4,
     "metadata": {},
     "output_type": "execute_result"
    }
   ],
   "source": [
    "df_races = pd.read_csv('race-result-horse.csv')\n",
    "df_races.head()"
   ]
  },
  {
   "cell_type": "code",
   "execution_count": 5,
   "metadata": {},
   "outputs": [
    {
     "data": {
      "text/plain": [
       "ID                 int64\n",
       "Tipster           object\n",
       "Date              object\n",
       "Track             object\n",
       "Horse             object\n",
       "Bet Type          object\n",
       "Odds             float64\n",
       "Result            object\n",
       "TipsterActive       bool\n",
       "dtype: object"
      ]
     },
     "execution_count": 5,
     "metadata": {},
     "output_type": "execute_result"
    }
   ],
   "source": [
    "df_tips.dtypes"
   ]
  },
  {
   "cell_type": "code",
   "execution_count": 6,
   "metadata": {},
   "outputs": [
    {
     "data": {
      "text/plain": [
       "ID               False\n",
       "Tipster          False\n",
       "Date             False\n",
       "Track            False\n",
       "Horse            False\n",
       "Bet Type         False\n",
       "Odds             False\n",
       "Result           False\n",
       "TipsterActive    False\n",
       "dtype: bool"
      ]
     },
     "execution_count": 6,
     "metadata": {},
     "output_type": "execute_result"
    }
   ],
   "source": [
    "df_tips.isnull().any()"
   ]
  },
  {
   "cell_type": "code",
   "execution_count": 7,
   "metadata": {},
   "outputs": [
    {
     "data": {
      "text/plain": [
       "finishing_position        object\n",
       "horse_number             float64\n",
       "horse_name                object\n",
       "horse_id                  object\n",
       "jockey                    object\n",
       "trainer                   object\n",
       "actual_weight             object\n",
       "declared_horse_weight     object\n",
       "draw                      object\n",
       "length_behind_winner      object\n",
       "running_position_1       float64\n",
       "running_position_2       float64\n",
       "running_position_3       float64\n",
       "running_position_4       float64\n",
       "finish_time               object\n",
       "win_odds                  object\n",
       "running_position_5       float64\n",
       "running_position_6       float64\n",
       "race_id                   object\n",
       "dtype: object"
      ]
     },
     "execution_count": 7,
     "metadata": {},
     "output_type": "execute_result"
    }
   ],
   "source": [
    "df_races.dtypes"
   ]
  },
  {
   "cell_type": "code",
   "execution_count": 8,
   "metadata": {
    "scrolled": true
   },
   "outputs": [
    {
     "data": {
      "text/plain": [
       "finishing_position        True\n",
       "horse_number              True\n",
       "horse_name               False\n",
       "horse_id                 False\n",
       "jockey                   False\n",
       "trainer                  False\n",
       "actual_weight            False\n",
       "declared_horse_weight    False\n",
       "draw                     False\n",
       "length_behind_winner     False\n",
       "running_position_1        True\n",
       "running_position_2        True\n",
       "running_position_3        True\n",
       "running_position_4        True\n",
       "finish_time              False\n",
       "win_odds                 False\n",
       "running_position_5        True\n",
       "running_position_6        True\n",
       "race_id                  False\n",
       "dtype: bool"
      ]
     },
     "execution_count": 8,
     "metadata": {},
     "output_type": "execute_result"
    }
   ],
   "source": [
    "df_races.isnull().any()"
   ]
  },
  {
   "cell_type": "code",
   "execution_count": 9,
   "metadata": {
    "collapsed": true
   },
   "outputs": [],
   "source": [
    "#Drop and replace null values"
   ]
  },
  {
   "cell_type": "code",
   "execution_count": 10,
   "metadata": {
    "collapsed": true
   },
   "outputs": [],
   "source": [
    "df_races = df_races.dropna(subset = ['finishing_position'])\n"
   ]
  },
  {
   "cell_type": "code",
   "execution_count": 11,
   "metadata": {
    "collapsed": true
   },
   "outputs": [],
   "source": [
    "df_races['horse_number'] = df_races['horse_number'].fillna(0)"
   ]
  },
  {
   "cell_type": "code",
   "execution_count": 12,
   "metadata": {
    "collapsed": true
   },
   "outputs": [],
   "source": [
    "df_races.running_position_1 = df_races.running_position_1.fillna(0)\n",
    "df_races.running_position_2 = df_races.running_position_2.fillna(0)\n",
    "df_races.running_position_3 = df_races.running_position_3.fillna(0)\n",
    "df_races.running_position_4 = df_races.running_position_4.fillna(0)\n",
    "df_races.running_position_5 = df_races.running_position_5.fillna(0)\n",
    "df_races.running_position_6 = df_races.running_position_6.fillna(0)"
   ]
  },
  {
   "cell_type": "code",
   "execution_count": 13,
   "metadata": {},
   "outputs": [
    {
     "data": {
      "text/plain": [
       "finishing_position       False\n",
       "horse_number             False\n",
       "horse_name               False\n",
       "horse_id                 False\n",
       "jockey                   False\n",
       "trainer                  False\n",
       "actual_weight            False\n",
       "declared_horse_weight    False\n",
       "draw                     False\n",
       "length_behind_winner     False\n",
       "running_position_1       False\n",
       "running_position_2       False\n",
       "running_position_3       False\n",
       "running_position_4       False\n",
       "finish_time              False\n",
       "win_odds                 False\n",
       "running_position_5       False\n",
       "running_position_6       False\n",
       "race_id                  False\n",
       "dtype: bool"
      ]
     },
     "execution_count": 13,
     "metadata": {},
     "output_type": "execute_result"
    }
   ],
   "source": [
    "df_races.isnull().any()"
   ]
  },
  {
   "cell_type": "code",
   "execution_count": 14,
   "metadata": {
    "collapsed": true
   },
   "outputs": [],
   "source": [
    "df_tips = df_tips.rename(columns = {'Horse': 'horse_name', 'Odds' : 'win_odds'})"
   ]
  },
  {
   "cell_type": "code",
   "execution_count": 15,
   "metadata": {},
   "outputs": [
    {
     "data": {
      "text/plain": [
       "Index(['ID', 'Tipster', 'Date', 'Track', 'horse_name', 'Bet Type', 'win_odds',\n",
       "       'Result', 'TipsterActive'],\n",
       "      dtype='object')"
      ]
     },
     "execution_count": 15,
     "metadata": {},
     "output_type": "execute_result"
    }
   ],
   "source": [
    "df_tips.columns"
   ]
  },
  {
   "cell_type": "code",
   "execution_count": 16,
   "metadata": {
    "collapsed": true
   },
   "outputs": [],
   "source": [
    "#Create a results column in df_races\n",
    "results = []\n",
    "for pos in df_races['finishing_position']:\n",
    "    if pos == 1:\n",
    "        results.append('Win')\n",
    "    else: results.append('Lose')\n",
    "df_races['Result'] = results"
   ]
  },
  {
   "cell_type": "code",
   "execution_count": 17,
   "metadata": {},
   "outputs": [
    {
     "data": {
      "text/html": [
       "<div>\n",
       "<style scoped>\n",
       "    .dataframe tbody tr th:only-of-type {\n",
       "        vertical-align: middle;\n",
       "    }\n",
       "\n",
       "    .dataframe tbody tr th {\n",
       "        vertical-align: top;\n",
       "    }\n",
       "\n",
       "    .dataframe thead th {\n",
       "        text-align: right;\n",
       "    }\n",
       "</style>\n",
       "<table border=\"1\" class=\"dataframe\">\n",
       "  <thead>\n",
       "    <tr style=\"text-align: right;\">\n",
       "      <th></th>\n",
       "      <th>horse_name</th>\n",
       "      <th>win_odds</th>\n",
       "      <th>Result</th>\n",
       "    </tr>\n",
       "  </thead>\n",
       "  <tbody>\n",
       "    <tr>\n",
       "      <th>1</th>\n",
       "      <td>Fredricka</td>\n",
       "      <td>8</td>\n",
       "      <td>Lose</td>\n",
       "    </tr>\n",
       "    <tr>\n",
       "      <th>2</th>\n",
       "      <td>Spend A Penny</td>\n",
       "      <td>4.5</td>\n",
       "      <td>Lose</td>\n",
       "    </tr>\n",
       "    <tr>\n",
       "      <th>3</th>\n",
       "      <td>Straightothepoint</td>\n",
       "      <td>7</td>\n",
       "      <td>Lose</td>\n",
       "    </tr>\n",
       "    <tr>\n",
       "      <th>4</th>\n",
       "      <td>Miss Inga Sock</td>\n",
       "      <td>5</td>\n",
       "      <td>Lose</td>\n",
       "    </tr>\n",
       "    <tr>\n",
       "      <th>5</th>\n",
       "      <td>Peril</td>\n",
       "      <td>4.33</td>\n",
       "      <td>Win</td>\n",
       "    </tr>\n",
       "  </tbody>\n",
       "</table>\n",
       "</div>"
      ],
      "text/plain": [
       "          horse_name win_odds Result\n",
       "1          Fredricka        8   Lose\n",
       "2      Spend A Penny      4.5   Lose\n",
       "3  Straightothepoint        7   Lose\n",
       "4     Miss Inga Sock        5   Lose\n",
       "5              Peril     4.33    Win"
      ]
     },
     "execution_count": 17,
     "metadata": {},
     "output_type": "execute_result"
    }
   ],
   "source": [
    "#Concatenate the two dataframes\n",
    "df = pd.concat([df_tips, df_races], join = 'inner')\n",
    "df.head()"
   ]
  },
  {
   "cell_type": "code",
   "execution_count": 18,
   "metadata": {},
   "outputs": [
    {
     "data": {
      "text/plain": [
       "horse_name    object\n",
       "win_odds      object\n",
       "Result        object\n",
       "dtype: object"
      ]
     },
     "execution_count": 18,
     "metadata": {},
     "output_type": "execute_result"
    }
   ],
   "source": [
    "df.dtypes"
   ]
  },
  {
   "cell_type": "code",
   "execution_count": 19,
   "metadata": {},
   "outputs": [
    {
     "data": {
      "text/plain": [
       "horse_name     object\n",
       "win_odds      float64\n",
       "Result         object\n",
       "dtype: object"
      ]
     },
     "execution_count": 19,
     "metadata": {},
     "output_type": "execute_result"
    }
   ],
   "source": [
    "#Change win_odds to a float datatype\n",
    "df = df[pd.to_numeric(df['win_odds'], downcast = 'float', errors='coerce').notnull()]\n",
    "df['win_odds'] = df['win_odds'].astype(float)\n",
    "df.dtypes"
   ]
  },
  {
   "cell_type": "markdown",
   "metadata": {},
   "source": [
    "# Are odds correlated with wins and losses? Are they accurate?"
   ]
  },
  {
   "cell_type": "code",
   "execution_count": 20,
   "metadata": {
    "collapsed": true
   },
   "outputs": [],
   "source": [
    "exec(open('useful.py').read())"
   ]
  },
  {
   "cell_type": "code",
   "execution_count": 21,
   "metadata": {
    "collapsed": true
   },
   "outputs": [],
   "source": [
    "#Separate dataframe into 2 separate dataframes of winners and losers\n",
    "df_winners = df[df.Result == 'Win']\n",
    "df_losers = df[df.Result == 'Lose']"
   ]
  },
  {
   "cell_type": "code",
   "execution_count": 22,
   "metadata": {
    "collapsed": true
   },
   "outputs": [],
   "source": [
    "#Determine Normality from plots"
   ]
  },
  {
   "cell_type": "code",
   "execution_count": 23,
   "metadata": {
    "scrolled": false
   },
   "outputs": [
    {
     "data": {
      "image/png": "[encoded data removed]",
      "text/plain": [
       "<matplotlib.figure.Figure at 0x111b43860>"
      ]
     },
     "metadata": {},
     "output_type": "display_data"
    }
   ],
   "source": [
    "fourPlot(df_winners.win_odds)"
   ]
  },
  {
   "cell_type": "code",
   "execution_count": 24,
   "metadata": {
    "scrolled": true
   },
   "outputs": [
    {
     "data": {
      "image/png": "[encoded data removed]",
      "text/plain": [
       "<matplotlib.figure.Figure at 0x11adf8438>"
      ]
     },
     "metadata": {},
     "output_type": "display_data"
    }
   ],
   "source": [
    "fourPlot(df_losers.win_odds)"
   ]
  },
  {
   "cell_type": "code",
   "execution_count": 25,
   "metadata": {
    "collapsed": true
   },
   "outputs": [],
   "source": [
    "#Since the data is non-normally distributed, we will use a Kruskall-Wallis test to compare the 2 \n",
    "#non-parametric sample sizes"
   ]
  },
  {
   "cell_type": "code",
   "execution_count": 26,
   "metadata": {},
   "outputs": [
    {
     "data": {
      "text/plain": [
       "KruskalResult(statistic=3049.796774907013, pvalue=0.0)"
      ]
     },
     "execution_count": 26,
     "metadata": {},
     "output_type": "execute_result"
    }
   ],
   "source": [
    "stats.kruskal(df_winners.win_odds,df_losers.win_odds)"
   ]
  },
  {
   "cell_type": "code",
   "execution_count": 27,
   "metadata": {
    "collapsed": true
   },
   "outputs": [],
   "source": [
    "#Since p <.05, we can reject the null hypothesis that the median distribution of winners and losers are equal to\n",
    "#each other"
   ]
  },
  {
   "cell_type": "code",
   "execution_count": 28,
   "metadata": {},
   "outputs": [
    {
     "data": {
      "text/plain": [
       "8.384568527918784"
      ]
     },
     "execution_count": 28,
     "metadata": {},
     "output_type": "execute_result"
    }
   ],
   "source": [
    "df_winners.win_odds.mean()"
   ]
  },
  {
   "cell_type": "code",
   "execution_count": 29,
   "metadata": {},
   "outputs": [
    {
     "data": {
      "text/plain": [
       "20.803691471502436"
      ]
     },
     "execution_count": 29,
     "metadata": {},
     "output_type": "execute_result"
    }
   ],
   "source": [
    "df_losers.win_odds.mean()"
   ]
  },
  {
   "cell_type": "code",
   "execution_count": 30,
   "metadata": {},
   "outputs": [
    {
     "data": {
      "text/plain": [
       "12.419122943583652"
      ]
     },
     "execution_count": 30,
     "metadata": {},
     "output_type": "execute_result"
    }
   ],
   "source": [
    "df_losers.win_odds.mean() - df_winners.win_odds.mean()"
   ]
  },
  {
   "cell_type": "code",
   "execution_count": 31,
   "metadata": {},
   "outputs": [
    {
     "data": {
      "text/plain": [
       "6.0"
      ]
     },
     "execution_count": 31,
     "metadata": {},
     "output_type": "execute_result"
    }
   ],
   "source": [
    "df_winners.win_odds.median()"
   ]
  },
  {
   "cell_type": "code",
   "execution_count": 32,
   "metadata": {},
   "outputs": [
    {
     "data": {
      "text/plain": [
       "11.0"
      ]
     },
     "execution_count": 32,
     "metadata": {},
     "output_type": "execute_result"
    }
   ],
   "source": [
    "df_losers.win_odds.median()"
   ]
  },
  {
   "cell_type": "code",
   "execution_count": 33,
   "metadata": {},
   "outputs": [
    {
     "data": {
      "text/plain": [
       "5.0"
      ]
     },
     "execution_count": 33,
     "metadata": {},
     "output_type": "execute_result"
    }
   ],
   "source": [
    "df_losers.win_odds.median() - df_winners.win_odds.median()"
   ]
  },
  {
   "cell_type": "code",
   "execution_count": 34,
   "metadata": {
    "collapsed": true
   },
   "outputs": [],
   "source": [
    "#With a median difference of 5 and a mean difference of 12.4, winning odds are statistically smaller for winners\n",
    "#than for losers"
   ]
  },
  {
   "cell_type": "code",
   "execution_count": 35,
   "metadata": {
    "collapsed": true
   },
   "outputs": [],
   "source": [
    "#Find and plot the relationship between win odds and finishing position"
   ]
  },
  {
   "cell_type": "code",
   "execution_count": 36,
   "metadata": {},
   "outputs": [
    {
     "data": {
      "text/plain": [
       "finishing_position        object\n",
       "horse_number             float64\n",
       "horse_name                object\n",
       "horse_id                  object\n",
       "jockey                    object\n",
       "trainer                   object\n",
       "actual_weight             object\n",
       "declared_horse_weight     object\n",
       "draw                      object\n",
       "length_behind_winner      object\n",
       "running_position_1       float64\n",
       "running_position_2       float64\n",
       "running_position_3       float64\n",
       "running_position_4       float64\n",
       "finish_time               object\n",
       "win_odds                  object\n",
       "running_position_5       float64\n",
       "running_position_6       float64\n",
       "race_id                   object\n",
       "Result                    object\n",
       "dtype: object"
      ]
     },
     "execution_count": 36,
     "metadata": {},
     "output_type": "execute_result"
    }
   ],
   "source": [
    "df_races.dtypes"
   ]
  },
  {
   "cell_type": "code",
   "execution_count": 37,
   "metadata": {},
   "outputs": [
    {
     "data": {
      "text/plain": [
       "array(['1', '2', '3', '4', '5', '6', '7', '8', '9', '10', '11', '12',\n",
       "       '13', '14'], dtype=object)"
      ]
     },
     "execution_count": 37,
     "metadata": {},
     "output_type": "execute_result"
    }
   ],
   "source": [
    "df_races = df_races.dropna(subset = ['finishing_position'])\n",
    "df_races = df_races.replace(['---', 'DISQ', 'DNF', 'FE', 'PU', 'TNP', 'UR', 'VOID', 'WR', 'WV', 'WV-A', 'WX', 'WX-A'], 0)\n",
    "df_races = df_races[~df_races['finishing_position'].str.contains('DH', na = True)]\n",
    "df_races['finishing_position'].unique()"
   ]
  },
  {
   "cell_type": "code",
   "execution_count": 38,
   "metadata": {
    "scrolled": false
   },
   "outputs": [
    {
     "data": {
      "text/plain": [
       "finishing_position       float64\n",
       "horse_number             float64\n",
       "horse_name                object\n",
       "horse_id                  object\n",
       "jockey                    object\n",
       "trainer                   object\n",
       "actual_weight             object\n",
       "declared_horse_weight     object\n",
       "draw                      object\n",
       "length_behind_winner      object\n",
       "running_position_1       float64\n",
       "running_position_2       float64\n",
       "running_position_3       float64\n",
       "running_position_4       float64\n",
       "finish_time               object\n",
       "win_odds                 float64\n",
       "running_position_5       float64\n",
       "running_position_6       float64\n",
       "race_id                   object\n",
       "Result                    object\n",
       "dtype: object"
      ]
     },
     "execution_count": 38,
     "metadata": {},
     "output_type": "execute_result"
    }
   ],
   "source": [
    "df_races['win_odds'] = df_races['win_odds'].astype(float)\n",
    "df_races['finishing_position'] = df_races['finishing_position'].astype(float)\n",
    "df_races.dtypes"
   ]
  },
  {
   "cell_type": "code",
   "execution_count": 39,
   "metadata": {},
   "outputs": [
    {
     "data": {
      "image/png": "[encoded data removed]",
      "text/plain": [
       "<matplotlib.figure.Figure at 0x11f9a66a0>"
      ]
     },
     "metadata": {},
     "output_type": "display_data"
    }
   ],
   "source": [
    "ax = sns.lmplot(data=df_races,x='win_odds',y='finishing_position')"
   ]
  },
  {
   "cell_type": "code",
   "execution_count": 40,
   "metadata": {
    "scrolled": true
   },
   "outputs": [
    {
     "name": "stdout",
     "output_type": "stream",
     "text": [
      "slope= 0.05675591377666186\n",
      "intercept= 5.1121797920116485\n",
      "r value= 0.4818527882442487\n",
      "p value= 0.0\n",
      "standard error 0.0006023279832196768\n"
     ]
    }
   ],
   "source": [
    "slope, intercept, r, p, serr = stats.linregress(df_races.win_odds, df_races.finishing_position,)\n",
    "print(\"slope=\",slope)\n",
    "print(\"intercept=\",intercept)\n",
    "print(\"r value=\",r)\n",
    "print(\"p value=\",p)\n",
    "print(\"standard error\",serr)"
   ]
  },
  {
   "cell_type": "code",
   "execution_count": 41,
   "metadata": {
    "collapsed": true
   },
   "outputs": [],
   "source": [
    "expected = (slope * df_races.win_odds + intercept)\n",
    "residuals = df_races.finishing_position - expected"
   ]
  },
  {
   "cell_type": "code",
   "execution_count": 42,
   "metadata": {
    "scrolled": true
   },
   "outputs": [
    {
     "data": {
      "image/png": "[encoded data removed]",
      "text/plain": [
       "<matplotlib.figure.Figure at 0x11f9a6d68>"
      ]
     },
     "metadata": {},
     "output_type": "display_data"
    }
   ],
   "source": [
    "fourPlot(residuals)"
   ]
  },
  {
   "cell_type": "code",
   "execution_count": 43,
   "metadata": {
    "collapsed": true
   },
   "outputs": [],
   "source": [
    "#The residuals appear to be normally distributed"
   ]
  },
  {
   "cell_type": "markdown",
   "metadata": {},
   "source": [
    "### Using the Model"
   ]
  },
  {
   "cell_type": "markdown",
   "metadata": {
    "collapsed": true
   },
   "source": [
    "What will be the finishing position of a horse with 7.0 odds?"
   ]
  },
  {
   "cell_type": "code",
   "execution_count": 44,
   "metadata": {},
   "outputs": [
    {
     "data": {
      "text/plain": [
       "5.509471188448281"
      ]
     },
     "execution_count": 44,
     "metadata": {},
     "output_type": "execute_result"
    }
   ],
   "source": [
    "slope * 7 + intercept"
   ]
  },
  {
   "cell_type": "markdown",
   "metadata": {},
   "source": [
    "# Which tipster is doing the best?"
   ]
  },
  {
   "cell_type": "code",
   "execution_count": 45,
   "metadata": {
    "scrolled": true
   },
   "outputs": [
    {
     "data": {
      "text/html": [
       "<div>\n",
       "<style scoped>\n",
       "    .dataframe tbody tr th:only-of-type {\n",
       "        vertical-align: middle;\n",
       "    }\n",
       "\n",
       "    .dataframe tbody tr th {\n",
       "        vertical-align: top;\n",
       "    }\n",
       "\n",
       "    .dataframe thead th {\n",
       "        text-align: right;\n",
       "    }\n",
       "</style>\n",
       "<table border=\"1\" class=\"dataframe\">\n",
       "  <thead>\n",
       "    <tr style=\"text-align: right;\">\n",
       "      <th></th>\n",
       "      <th>ID</th>\n",
       "      <th>Tipster</th>\n",
       "      <th>Date</th>\n",
       "      <th>Track</th>\n",
       "      <th>horse_name</th>\n",
       "      <th>Bet Type</th>\n",
       "      <th>win_odds</th>\n",
       "      <th>Result</th>\n",
       "      <th>TipsterActive</th>\n",
       "    </tr>\n",
       "    <tr>\n",
       "      <th>UID</th>\n",
       "      <th></th>\n",
       "      <th></th>\n",
       "      <th></th>\n",
       "      <th></th>\n",
       "      <th></th>\n",
       "      <th></th>\n",
       "      <th></th>\n",
       "      <th></th>\n",
       "      <th></th>\n",
       "    </tr>\n",
       "  </thead>\n",
       "  <tbody>\n",
       "    <tr>\n",
       "      <th>1</th>\n",
       "      <td>1</td>\n",
       "      <td>Tipster A</td>\n",
       "      <td>24/07/2015</td>\n",
       "      <td>Ascot</td>\n",
       "      <td>Fredricka</td>\n",
       "      <td>Win</td>\n",
       "      <td>8.00</td>\n",
       "      <td>Lose</td>\n",
       "      <td>True</td>\n",
       "    </tr>\n",
       "    <tr>\n",
       "      <th>2</th>\n",
       "      <td>2</td>\n",
       "      <td>Tipster A</td>\n",
       "      <td>24/07/2015</td>\n",
       "      <td>Thirsk</td>\n",
       "      <td>Spend A Penny</td>\n",
       "      <td>Win</td>\n",
       "      <td>4.50</td>\n",
       "      <td>Lose</td>\n",
       "      <td>True</td>\n",
       "    </tr>\n",
       "    <tr>\n",
       "      <th>3</th>\n",
       "      <td>3</td>\n",
       "      <td>Tipster A</td>\n",
       "      <td>24/07/2015</td>\n",
       "      <td>York</td>\n",
       "      <td>Straightothepoint</td>\n",
       "      <td>Win</td>\n",
       "      <td>7.00</td>\n",
       "      <td>Lose</td>\n",
       "      <td>True</td>\n",
       "    </tr>\n",
       "    <tr>\n",
       "      <th>4</th>\n",
       "      <td>4</td>\n",
       "      <td>Tipster A</td>\n",
       "      <td>24/07/2015</td>\n",
       "      <td>Newmarket</td>\n",
       "      <td>Miss Inga Sock</td>\n",
       "      <td>Win</td>\n",
       "      <td>5.00</td>\n",
       "      <td>Lose</td>\n",
       "      <td>True</td>\n",
       "    </tr>\n",
       "    <tr>\n",
       "      <th>5</th>\n",
       "      <td>5</td>\n",
       "      <td>Tipster A</td>\n",
       "      <td>25/07/2015</td>\n",
       "      <td>Ascot</td>\n",
       "      <td>Peril</td>\n",
       "      <td>Win</td>\n",
       "      <td>4.33</td>\n",
       "      <td>Win</td>\n",
       "      <td>True</td>\n",
       "    </tr>\n",
       "  </tbody>\n",
       "</table>\n",
       "</div>"
      ],
      "text/plain": [
       "     ID    Tipster        Date      Track         horse_name Bet Type  \\\n",
       "UID                                                                     \n",
       "1     1  Tipster A  24/07/2015      Ascot          Fredricka      Win   \n",
       "2     2  Tipster A  24/07/2015     Thirsk      Spend A Penny      Win   \n",
       "3     3  Tipster A  24/07/2015       York  Straightothepoint      Win   \n",
       "4     4  Tipster A  24/07/2015  Newmarket     Miss Inga Sock      Win   \n",
       "5     5  Tipster A  25/07/2015      Ascot              Peril      Win   \n",
       "\n",
       "     win_odds Result  TipsterActive  \n",
       "UID                                  \n",
       "1        8.00   Lose           True  \n",
       "2        4.50   Lose           True  \n",
       "3        7.00   Lose           True  \n",
       "4        5.00   Lose           True  \n",
       "5        4.33    Win           True  "
      ]
     },
     "execution_count": 45,
     "metadata": {},
     "output_type": "execute_result"
    }
   ],
   "source": [
    "df_tips.head()"
   ]
  },
  {
   "cell_type": "code",
   "execution_count": 46,
   "metadata": {},
   "outputs": [
    {
     "data": {
      "text/html": [
       "<div>\n",
       "<style scoped>\n",
       "    .dataframe tbody tr th:only-of-type {\n",
       "        vertical-align: middle;\n",
       "    }\n",
       "\n",
       "    .dataframe tbody tr th {\n",
       "        vertical-align: top;\n",
       "    }\n",
       "\n",
       "    .dataframe thead th {\n",
       "        text-align: right;\n",
       "    }\n",
       "</style>\n",
       "<table border=\"1\" class=\"dataframe\">\n",
       "  <thead>\n",
       "    <tr style=\"text-align: right;\">\n",
       "      <th>Result</th>\n",
       "      <th>Lose</th>\n",
       "      <th>Win</th>\n",
       "      <th>Total Tips</th>\n",
       "      <th>Success Rate</th>\n",
       "    </tr>\n",
       "    <tr>\n",
       "      <th>Tipster</th>\n",
       "      <th></th>\n",
       "      <th></th>\n",
       "      <th></th>\n",
       "      <th></th>\n",
       "    </tr>\n",
       "  </thead>\n",
       "  <tbody>\n",
       "    <tr>\n",
       "      <th>Tipster A</th>\n",
       "      <td>839</td>\n",
       "      <td>492</td>\n",
       "      <td>1331</td>\n",
       "      <td>0.369647</td>\n",
       "    </tr>\n",
       "    <tr>\n",
       "      <th>Tipster R</th>\n",
       "      <td>1278</td>\n",
       "      <td>623</td>\n",
       "      <td>1901</td>\n",
       "      <td>0.327722</td>\n",
       "    </tr>\n",
       "    <tr>\n",
       "      <th>Tipster N</th>\n",
       "      <td>289</td>\n",
       "      <td>126</td>\n",
       "      <td>415</td>\n",
       "      <td>0.303614</td>\n",
       "    </tr>\n",
       "    <tr>\n",
       "      <th>Tipster Z</th>\n",
       "      <td>623</td>\n",
       "      <td>260</td>\n",
       "      <td>883</td>\n",
       "      <td>0.294451</td>\n",
       "    </tr>\n",
       "    <tr>\n",
       "      <th>Tipster F</th>\n",
       "      <td>105</td>\n",
       "      <td>41</td>\n",
       "      <td>146</td>\n",
       "      <td>0.280822</td>\n",
       "    </tr>\n",
       "  </tbody>\n",
       "</table>\n",
       "</div>"
      ],
      "text/plain": [
       "Result     Lose  Win  Total Tips  Success Rate\n",
       "Tipster                                       \n",
       "Tipster A   839  492        1331      0.369647\n",
       "Tipster R  1278  623        1901      0.327722\n",
       "Tipster N   289  126         415      0.303614\n",
       "Tipster Z   623  260         883      0.294451\n",
       "Tipster F   105   41         146      0.280822"
      ]
     },
     "execution_count": 46,
     "metadata": {},
     "output_type": "execute_result"
    }
   ],
   "source": [
    "#Create pivot table\n",
    "tipsters = pd.pivot_table(df_tips, index = 'Tipster', columns = ['Result'], values = 'Date', aggfunc = 'count')\n",
    "tipsters['Total Tips'] = tipsters['Win'] + tipsters['Lose']\n",
    "tipsters['Success Rate'] = tipsters['Win'] / tipsters['Total Tips']\n",
    "tipsters = tipsters.sort_values(by = 'Success Rate', ascending = False)\n",
    "tipsters.head()"
   ]
  },
  {
   "cell_type": "code",
   "execution_count": 47,
   "metadata": {},
   "outputs": [
    {
     "data": {
      "text/plain": [
       "Result\n",
       "Lose             839.000000\n",
       "Win              492.000000\n",
       "Total Tips      1331.000000\n",
       "Success Rate       0.369647\n",
       "Name: Tipster A, dtype: float64"
      ]
     },
     "execution_count": 47,
     "metadata": {},
     "output_type": "execute_result"
    }
   ],
   "source": [
    "tipsters.iloc[0]"
   ]
  },
  {
   "cell_type": "code",
   "execution_count": 48,
   "metadata": {
    "collapsed": true
   },
   "outputs": [],
   "source": [
    "#Tipster A has the best track record with a 37% success rate"
   ]
  },
  {
   "cell_type": "markdown",
   "metadata": {},
   "source": [
    "# Which horse is doing the best"
   ]
  },
  {
   "cell_type": "code",
   "execution_count": 49,
   "metadata": {
    "scrolled": false
   },
   "outputs": [
    {
     "data": {
      "text/html": [
       "<div>\n",
       "<style scoped>\n",
       "    .dataframe tbody tr th:only-of-type {\n",
       "        vertical-align: middle;\n",
       "    }\n",
       "\n",
       "    .dataframe tbody tr th {\n",
       "        vertical-align: top;\n",
       "    }\n",
       "\n",
       "    .dataframe thead th {\n",
       "        text-align: right;\n",
       "    }\n",
       "</style>\n",
       "<table border=\"1\" class=\"dataframe\">\n",
       "  <thead>\n",
       "    <tr style=\"text-align: right;\">\n",
       "      <th></th>\n",
       "      <th>finishing_position</th>\n",
       "      <th>horse_number</th>\n",
       "      <th>horse_name</th>\n",
       "      <th>horse_id</th>\n",
       "      <th>jockey</th>\n",
       "      <th>trainer</th>\n",
       "      <th>actual_weight</th>\n",
       "      <th>declared_horse_weight</th>\n",
       "      <th>draw</th>\n",
       "      <th>length_behind_winner</th>\n",
       "      <th>running_position_1</th>\n",
       "      <th>running_position_2</th>\n",
       "      <th>running_position_3</th>\n",
       "      <th>running_position_4</th>\n",
       "      <th>finish_time</th>\n",
       "      <th>win_odds</th>\n",
       "      <th>running_position_5</th>\n",
       "      <th>running_position_6</th>\n",
       "      <th>race_id</th>\n",
       "      <th>Result</th>\n",
       "    </tr>\n",
       "  </thead>\n",
       "  <tbody>\n",
       "    <tr>\n",
       "      <th>0</th>\n",
       "      <td>1.0</td>\n",
       "      <td>1.0</td>\n",
       "      <td>DOUBLE DRAGON</td>\n",
       "      <td>K019</td>\n",
       "      <td>B Prebble</td>\n",
       "      <td>D Cruz</td>\n",
       "      <td>133</td>\n",
       "      <td>1032</td>\n",
       "      <td>1</td>\n",
       "      <td>-</td>\n",
       "      <td>1.0</td>\n",
       "      <td>2.0</td>\n",
       "      <td>2.0</td>\n",
       "      <td>1.0</td>\n",
       "      <td>1.22.33</td>\n",
       "      <td>3.8</td>\n",
       "      <td>0.0</td>\n",
       "      <td>0.0</td>\n",
       "      <td>2014-001</td>\n",
       "      <td>Lose</td>\n",
       "    </tr>\n",
       "    <tr>\n",
       "      <th>1</th>\n",
       "      <td>2.0</td>\n",
       "      <td>2.0</td>\n",
       "      <td>PLAIN BLUE BANNER</td>\n",
       "      <td>S070</td>\n",
       "      <td>D Whyte</td>\n",
       "      <td>D E Ferraris</td>\n",
       "      <td>133</td>\n",
       "      <td>1075</td>\n",
       "      <td>13</td>\n",
       "      <td>2</td>\n",
       "      <td>8.0</td>\n",
       "      <td>9.0</td>\n",
       "      <td>9.0</td>\n",
       "      <td>2.0</td>\n",
       "      <td>1.22.65</td>\n",
       "      <td>8.0</td>\n",
       "      <td>0.0</td>\n",
       "      <td>0.0</td>\n",
       "      <td>2014-001</td>\n",
       "      <td>Lose</td>\n",
       "    </tr>\n",
       "    <tr>\n",
       "      <th>2</th>\n",
       "      <td>3.0</td>\n",
       "      <td>10.0</td>\n",
       "      <td>GOLDWEAVER</td>\n",
       "      <td>P072</td>\n",
       "      <td>Y T Cheng</td>\n",
       "      <td>Y S Tsui</td>\n",
       "      <td>121</td>\n",
       "      <td>1065</td>\n",
       "      <td>3</td>\n",
       "      <td>2</td>\n",
       "      <td>2.0</td>\n",
       "      <td>1.0</td>\n",
       "      <td>1.0</td>\n",
       "      <td>3.0</td>\n",
       "      <td>1.22.66</td>\n",
       "      <td>5.7</td>\n",
       "      <td>0.0</td>\n",
       "      <td>0.0</td>\n",
       "      <td>2014-001</td>\n",
       "      <td>Lose</td>\n",
       "    </tr>\n",
       "    <tr>\n",
       "      <th>3</th>\n",
       "      <td>4.0</td>\n",
       "      <td>3.0</td>\n",
       "      <td>SUPREME PROFIT</td>\n",
       "      <td>P230</td>\n",
       "      <td>J Moreira</td>\n",
       "      <td>C S Shum</td>\n",
       "      <td>132</td>\n",
       "      <td>1222</td>\n",
       "      <td>2</td>\n",
       "      <td>2</td>\n",
       "      <td>6.0</td>\n",
       "      <td>4.0</td>\n",
       "      <td>5.0</td>\n",
       "      <td>4.0</td>\n",
       "      <td>1.22.66</td>\n",
       "      <td>6.1</td>\n",
       "      <td>0.0</td>\n",
       "      <td>0.0</td>\n",
       "      <td>2014-001</td>\n",
       "      <td>Lose</td>\n",
       "    </tr>\n",
       "    <tr>\n",
       "      <th>4</th>\n",
       "      <td>5.0</td>\n",
       "      <td>7.0</td>\n",
       "      <td>THE ONLY KID</td>\n",
       "      <td>H173</td>\n",
       "      <td>Z Purton</td>\n",
       "      <td>K W Lui</td>\n",
       "      <td>125</td>\n",
       "      <td>1136</td>\n",
       "      <td>9</td>\n",
       "      <td>4-1/4</td>\n",
       "      <td>9.0</td>\n",
       "      <td>10.0</td>\n",
       "      <td>10.0</td>\n",
       "      <td>5.0</td>\n",
       "      <td>1.23.02</td>\n",
       "      <td>6.1</td>\n",
       "      <td>0.0</td>\n",
       "      <td>0.0</td>\n",
       "      <td>2014-001</td>\n",
       "      <td>Lose</td>\n",
       "    </tr>\n",
       "  </tbody>\n",
       "</table>\n",
       "</div>"
      ],
      "text/plain": [
       "   finishing_position  horse_number         horse_name horse_id     jockey  \\\n",
       "0                 1.0           1.0      DOUBLE DRAGON     K019  B Prebble   \n",
       "1                 2.0           2.0  PLAIN BLUE BANNER     S070    D Whyte   \n",
       "2                 3.0          10.0         GOLDWEAVER     P072  Y T Cheng   \n",
       "3                 4.0           3.0     SUPREME PROFIT     P230  J Moreira   \n",
       "4                 5.0           7.0       THE ONLY KID     H173   Z Purton   \n",
       "\n",
       "        trainer actual_weight declared_horse_weight draw length_behind_winner  \\\n",
       "0        D Cruz           133                  1032    1                    -   \n",
       "1  D E Ferraris           133                  1075   13                    2   \n",
       "2      Y S Tsui           121                  1065    3                    2   \n",
       "3      C S Shum           132                  1222    2                    2   \n",
       "4       K W Lui           125                  1136    9                4-1/4   \n",
       "\n",
       "   running_position_1  running_position_2  running_position_3  \\\n",
       "0                 1.0                 2.0                 2.0   \n",
       "1                 8.0                 9.0                 9.0   \n",
       "2                 2.0                 1.0                 1.0   \n",
       "3                 6.0                 4.0                 5.0   \n",
       "4                 9.0                10.0                10.0   \n",
       "\n",
       "   running_position_4 finish_time  win_odds  running_position_5  \\\n",
       "0                 1.0     1.22.33       3.8                 0.0   \n",
       "1                 2.0     1.22.65       8.0                 0.0   \n",
       "2                 3.0     1.22.66       5.7                 0.0   \n",
       "3                 4.0     1.22.66       6.1                 0.0   \n",
       "4                 5.0     1.23.02       6.1                 0.0   \n",
       "\n",
       "   running_position_6   race_id Result  \n",
       "0                 0.0  2014-001   Lose  \n",
       "1                 0.0  2014-001   Lose  \n",
       "2                 0.0  2014-001   Lose  \n",
       "3                 0.0  2014-001   Lose  \n",
       "4                 0.0  2014-001   Lose  "
      ]
     },
     "execution_count": 49,
     "metadata": {},
     "output_type": "execute_result"
    }
   ],
   "source": [
    "df_races.head()"
   ]
  },
  {
   "cell_type": "code",
   "execution_count": 50,
   "metadata": {
    "scrolled": true
   },
   "outputs": [
    {
     "data": {
      "text/html": [
       "<div>\n",
       "<style scoped>\n",
       "    .dataframe tbody tr th:only-of-type {\n",
       "        vertical-align: middle;\n",
       "    }\n",
       "\n",
       "    .dataframe tbody tr th {\n",
       "        vertical-align: top;\n",
       "    }\n",
       "\n",
       "    .dataframe thead th {\n",
       "        text-align: right;\n",
       "    }\n",
       "</style>\n",
       "<table border=\"1\" class=\"dataframe\">\n",
       "  <thead>\n",
       "    <tr style=\"text-align: right;\">\n",
       "      <th></th>\n",
       "      <th>finishing_position</th>\n",
       "      <th>win_odds</th>\n",
       "    </tr>\n",
       "    <tr>\n",
       "      <th>horse_name</th>\n",
       "      <th></th>\n",
       "      <th></th>\n",
       "    </tr>\n",
       "  </thead>\n",
       "  <tbody>\n",
       "    <tr>\n",
       "      <th>HOT KING PRAWN</th>\n",
       "      <td>1.000000</td>\n",
       "      <td>1.200000</td>\n",
       "    </tr>\n",
       "    <tr>\n",
       "      <th>BAYONET</th>\n",
       "      <td>1.000000</td>\n",
       "      <td>5.750000</td>\n",
       "    </tr>\n",
       "    <tr>\n",
       "      <th>NOTHINGILIKEMORE</th>\n",
       "      <td>1.000000</td>\n",
       "      <td>1.975000</td>\n",
       "    </tr>\n",
       "    <tr>\n",
       "      <th>COBY BOY</th>\n",
       "      <td>1.000000</td>\n",
       "      <td>98.000000</td>\n",
       "    </tr>\n",
       "    <tr>\n",
       "      <th>BRAVO WATCHMAN</th>\n",
       "      <td>1.000000</td>\n",
       "      <td>2.400000</td>\n",
       "    </tr>\n",
       "    <tr>\n",
       "      <th>CHAUTAUQUA</th>\n",
       "      <td>1.000000</td>\n",
       "      <td>2.800000</td>\n",
       "    </tr>\n",
       "    <tr>\n",
       "      <th>SIGHT LEADER</th>\n",
       "      <td>1.000000</td>\n",
       "      <td>1.700000</td>\n",
       "    </tr>\n",
       "    <tr>\n",
       "      <th>TRAVEL EMPEROR</th>\n",
       "      <td>1.000000</td>\n",
       "      <td>1.400000</td>\n",
       "    </tr>\n",
       "    <tr>\n",
       "      <th>CALCULATION</th>\n",
       "      <td>1.000000</td>\n",
       "      <td>4.600000</td>\n",
       "    </tr>\n",
       "    <tr>\n",
       "      <th>MAURICE</th>\n",
       "      <td>1.000000</td>\n",
       "      <td>2.633333</td>\n",
       "    </tr>\n",
       "    <tr>\n",
       "      <th>LEISURED FEET</th>\n",
       "      <td>1.000000</td>\n",
       "      <td>3.000000</td>\n",
       "    </tr>\n",
       "    <tr>\n",
       "      <th>D B PIN</th>\n",
       "      <td>1.444444</td>\n",
       "      <td>2.844444</td>\n",
       "    </tr>\n",
       "    <tr>\n",
       "      <th>FLINTSHIRE</th>\n",
       "      <td>1.500000</td>\n",
       "      <td>2.300000</td>\n",
       "    </tr>\n",
       "    <tr>\n",
       "      <th>FANTASTIC EIGHT</th>\n",
       "      <td>1.600000</td>\n",
       "      <td>3.340000</td>\n",
       "    </tr>\n",
       "    <tr>\n",
       "      <th>IVICTORY</th>\n",
       "      <td>1.750000</td>\n",
       "      <td>2.725000</td>\n",
       "    </tr>\n",
       "    <tr>\n",
       "      <th>BEAT THE CLOCK</th>\n",
       "      <td>1.777778</td>\n",
       "      <td>2.011111</td>\n",
       "    </tr>\n",
       "    <tr>\n",
       "      <th>SUPER SIXTEEN</th>\n",
       "      <td>2.000000</td>\n",
       "      <td>14.100000</td>\n",
       "    </tr>\n",
       "    <tr>\n",
       "      <th>WINNING NOVEL</th>\n",
       "      <td>2.000000</td>\n",
       "      <td>27.750000</td>\n",
       "    </tr>\n",
       "    <tr>\n",
       "      <th>DARK SECRET</th>\n",
       "      <td>2.000000</td>\n",
       "      <td>10.800000</td>\n",
       "    </tr>\n",
       "    <tr>\n",
       "      <th>MAGIC LEGEND</th>\n",
       "      <td>2.000000</td>\n",
       "      <td>4.828571</td>\n",
       "    </tr>\n",
       "  </tbody>\n",
       "</table>\n",
       "</div>"
      ],
      "text/plain": [
       "                  finishing_position   win_odds\n",
       "horse_name                                     \n",
       "HOT KING PRAWN              1.000000   1.200000\n",
       "BAYONET                     1.000000   5.750000\n",
       "NOTHINGILIKEMORE            1.000000   1.975000\n",
       "COBY BOY                    1.000000  98.000000\n",
       "BRAVO WATCHMAN              1.000000   2.400000\n",
       "CHAUTAUQUA                  1.000000   2.800000\n",
       "SIGHT LEADER                1.000000   1.700000\n",
       "TRAVEL EMPEROR              1.000000   1.400000\n",
       "CALCULATION                 1.000000   4.600000\n",
       "MAURICE                     1.000000   2.633333\n",
       "LEISURED FEET               1.000000   3.000000\n",
       "D B PIN                     1.444444   2.844444\n",
       "FLINTSHIRE                  1.500000   2.300000\n",
       "FANTASTIC EIGHT             1.600000   3.340000\n",
       "IVICTORY                    1.750000   2.725000\n",
       "BEAT THE CLOCK              1.777778   2.011111\n",
       "SUPER SIXTEEN               2.000000  14.100000\n",
       "WINNING NOVEL               2.000000  27.750000\n",
       "DARK SECRET                 2.000000  10.800000\n",
       "MAGIC LEGEND                2.000000   4.828571"
      ]
     },
     "execution_count": 50,
     "metadata": {},
     "output_type": "execute_result"
    }
   ],
   "source": [
    "horse_pivot = pd.pivot_table(df_races, values = ['finishing_position', 'win_odds'], index = 'horse_name', aggfunc = 'mean')\n",
    "horse_pivot = horse_pivot.sort_values(by = 'finishing_position')\n",
    "horse_pivot.head(20)"
   ]
  },
  {
   "cell_type": "markdown",
   "metadata": {},
   "source": [
    "# Which jockey is doing the best?"
   ]
  },
  {
   "cell_type": "code",
   "execution_count": 51,
   "metadata": {
    "scrolled": true
   },
   "outputs": [
    {
     "data": {
      "text/html": [
       "<div>\n",
       "<style scoped>\n",
       "    .dataframe tbody tr th:only-of-type {\n",
       "        vertical-align: middle;\n",
       "    }\n",
       "\n",
       "    .dataframe tbody tr th {\n",
       "        vertical-align: top;\n",
       "    }\n",
       "\n",
       "    .dataframe thead th {\n",
       "        text-align: right;\n",
       "    }\n",
       "</style>\n",
       "<table border=\"1\" class=\"dataframe\">\n",
       "  <thead>\n",
       "    <tr style=\"text-align: right;\">\n",
       "      <th></th>\n",
       "      <th>finishing_position</th>\n",
       "      <th>win_odds</th>\n",
       "    </tr>\n",
       "    <tr>\n",
       "      <th>jockey</th>\n",
       "      <th></th>\n",
       "      <th></th>\n",
       "    </tr>\n",
       "  </thead>\n",
       "  <tbody>\n",
       "    <tr>\n",
       "      <th>J Moreira</th>\n",
       "      <td>4.225359</td>\n",
       "      <td>5.072690</td>\n",
       "    </tr>\n",
       "    <tr>\n",
       "      <th>Y Iwata</th>\n",
       "      <td>4.250000</td>\n",
       "      <td>39.400000</td>\n",
       "    </tr>\n",
       "    <tr>\n",
       "      <th>Y Fukunaga</th>\n",
       "      <td>4.500000</td>\n",
       "      <td>12.366667</td>\n",
       "    </tr>\n",
       "    <tr>\n",
       "      <th>K Ikezoe</th>\n",
       "      <td>5.000000</td>\n",
       "      <td>37.000000</td>\n",
       "    </tr>\n",
       "    <tr>\n",
       "      <th>M Barzalona</th>\n",
       "      <td>5.111111</td>\n",
       "      <td>26.955556</td>\n",
       "    </tr>\n",
       "    <tr>\n",
       "      <th>Z Purton</th>\n",
       "      <td>5.228430</td>\n",
       "      <td>9.263935</td>\n",
       "    </tr>\n",
       "    <tr>\n",
       "      <th>M F Poon</th>\n",
       "      <td>5.338843</td>\n",
       "      <td>10.466116</td>\n",
       "    </tr>\n",
       "    <tr>\n",
       "      <th>P-C Boudot</th>\n",
       "      <td>5.500000</td>\n",
       "      <td>52.000000</td>\n",
       "    </tr>\n",
       "    <tr>\n",
       "      <th>Y Take</th>\n",
       "      <td>5.500000</td>\n",
       "      <td>31.900000</td>\n",
       "    </tr>\n",
       "    <tr>\n",
       "      <th>R Moore</th>\n",
       "      <td>5.683453</td>\n",
       "      <td>9.272662</td>\n",
       "    </tr>\n",
       "    <tr>\n",
       "      <th>S Pasquier</th>\n",
       "      <td>5.750000</td>\n",
       "      <td>72.500000</td>\n",
       "    </tr>\n",
       "    <tr>\n",
       "      <th>D Whyte</th>\n",
       "      <td>5.904337</td>\n",
       "      <td>15.213138</td>\n",
       "    </tr>\n",
       "    <tr>\n",
       "      <th>H Bowman</th>\n",
       "      <td>5.930693</td>\n",
       "      <td>20.669307</td>\n",
       "    </tr>\n",
       "    <tr>\n",
       "      <th>R Myers</th>\n",
       "      <td>6.000000</td>\n",
       "      <td>99.000000</td>\n",
       "    </tr>\n",
       "    <tr>\n",
       "      <th>K McEvoy</th>\n",
       "      <td>6.000000</td>\n",
       "      <td>30.400000</td>\n",
       "    </tr>\n",
       "    <tr>\n",
       "      <th>S de Sousa</th>\n",
       "      <td>6.103746</td>\n",
       "      <td>14.869741</td>\n",
       "    </tr>\n",
       "    <tr>\n",
       "      <th>B Prebble</th>\n",
       "      <td>6.163947</td>\n",
       "      <td>18.245252</td>\n",
       "    </tr>\n",
       "    <tr>\n",
       "      <th>T Berry</th>\n",
       "      <td>6.185567</td>\n",
       "      <td>19.960825</td>\n",
       "    </tr>\n",
       "    <tr>\n",
       "      <th>O Peslier</th>\n",
       "      <td>6.272727</td>\n",
       "      <td>35.972727</td>\n",
       "    </tr>\n",
       "    <tr>\n",
       "      <th>C Williams</th>\n",
       "      <td>6.315789</td>\n",
       "      <td>19.060526</td>\n",
       "    </tr>\n",
       "  </tbody>\n",
       "</table>\n",
       "</div>"
      ],
      "text/plain": [
       "             finishing_position   win_odds\n",
       "jockey                                    \n",
       "J Moreira              4.225359   5.072690\n",
       "Y Iwata                4.250000  39.400000\n",
       "Y Fukunaga             4.500000  12.366667\n",
       "K Ikezoe               5.000000  37.000000\n",
       "M Barzalona            5.111111  26.955556\n",
       "Z Purton               5.228430   9.263935\n",
       "M F Poon               5.338843  10.466116\n",
       "P-C Boudot             5.500000  52.000000\n",
       "Y Take                 5.500000  31.900000\n",
       "R Moore                5.683453   9.272662\n",
       "S Pasquier             5.750000  72.500000\n",
       "D Whyte                5.904337  15.213138\n",
       "H Bowman               5.930693  20.669307\n",
       "R Myers                6.000000  99.000000\n",
       "K McEvoy               6.000000  30.400000\n",
       "S de Sousa             6.103746  14.869741\n",
       "B Prebble              6.163947  18.245252\n",
       "T Berry                6.185567  19.960825\n",
       "O Peslier              6.272727  35.972727\n",
       "C Williams             6.315789  19.060526"
      ]
     },
     "execution_count": 51,
     "metadata": {},
     "output_type": "execute_result"
    }
   ],
   "source": [
    "jockey_pivot = pd.pivot_table(df_races, values = ['finishing_position', 'win_odds'], index = 'jockey', aggfunc = 'mean')\n",
    "jockey_pivot = jockey_pivot.sort_values(by = 'finishing_position')\n",
    "jockey_pivot.head(20)"
   ]
  },
  {
   "cell_type": "markdown",
   "metadata": {},
   "source": [
    "# Which trainer is doing the best?"
   ]
  },
  {
   "cell_type": "code",
   "execution_count": 52,
   "metadata": {},
   "outputs": [
    {
     "data": {
      "text/html": [
       "<div>\n",
       "<style scoped>\n",
       "    .dataframe tbody tr th:only-of-type {\n",
       "        vertical-align: middle;\n",
       "    }\n",
       "\n",
       "    .dataframe tbody tr th {\n",
       "        vertical-align: top;\n",
       "    }\n",
       "\n",
       "    .dataframe thead th {\n",
       "        text-align: right;\n",
       "    }\n",
       "</style>\n",
       "<table border=\"1\" class=\"dataframe\">\n",
       "  <thead>\n",
       "    <tr style=\"text-align: right;\">\n",
       "      <th></th>\n",
       "      <th>finishing_position</th>\n",
       "      <th>win_odds</th>\n",
       "    </tr>\n",
       "    <tr>\n",
       "      <th>trainer</th>\n",
       "      <th></th>\n",
       "      <th></th>\n",
       "    </tr>\n",
       "  </thead>\n",
       "  <tbody>\n",
       "    <tr>\n",
       "      <th>M Hawkes</th>\n",
       "      <td>1.000000</td>\n",
       "      <td>2.800000</td>\n",
       "    </tr>\n",
       "    <tr>\n",
       "      <th>de Royer Dupre</th>\n",
       "      <td>3.000000</td>\n",
       "      <td>14.500000</td>\n",
       "    </tr>\n",
       "    <tr>\n",
       "      <th>Y Yahagi</th>\n",
       "      <td>3.000000</td>\n",
       "      <td>71.000000</td>\n",
       "    </tr>\n",
       "    <tr>\n",
       "      <th>A Fabre</th>\n",
       "      <td>3.500000</td>\n",
       "      <td>27.150000</td>\n",
       "    </tr>\n",
       "    <tr>\n",
       "      <th>N Hori</th>\n",
       "      <td>3.714286</td>\n",
       "      <td>7.485714</td>\n",
       "    </tr>\n",
       "    <tr>\n",
       "      <th>M Saito</th>\n",
       "      <td>4.000000</td>\n",
       "      <td>10.333333</td>\n",
       "    </tr>\n",
       "    <tr>\n",
       "      <th>M Delzangles</th>\n",
       "      <td>4.000000</td>\n",
       "      <td>22.000000</td>\n",
       "    </tr>\n",
       "    <tr>\n",
       "      <th>Ed Walker</th>\n",
       "      <td>5.000000</td>\n",
       "      <td>29.000000</td>\n",
       "    </tr>\n",
       "    <tr>\n",
       "      <th>R Okubo</th>\n",
       "      <td>5.000000</td>\n",
       "      <td>69.000000</td>\n",
       "    </tr>\n",
       "    <tr>\n",
       "      <th>R Hickmott</th>\n",
       "      <td>5.000000</td>\n",
       "      <td>49.000000</td>\n",
       "    </tr>\n",
       "    <tr>\n",
       "      <th>C Appleby</th>\n",
       "      <td>5.000000</td>\n",
       "      <td>28.000000</td>\n",
       "    </tr>\n",
       "    <tr>\n",
       "      <th>O Hirata</th>\n",
       "      <td>5.000000</td>\n",
       "      <td>37.000000</td>\n",
       "    </tr>\n",
       "    <tr>\n",
       "      <th>F Rohaut</th>\n",
       "      <td>5.000000</td>\n",
       "      <td>99.000000</td>\n",
       "    </tr>\n",
       "    <tr>\n",
       "      <th>J Lau</th>\n",
       "      <td>5.000000</td>\n",
       "      <td>18.166667</td>\n",
       "    </tr>\n",
       "    <tr>\n",
       "      <th>T Tanaka</th>\n",
       "      <td>5.000000</td>\n",
       "      <td>13.000000</td>\n",
       "    </tr>\n",
       "    <tr>\n",
       "      <th>K Lees</th>\n",
       "      <td>5.000000</td>\n",
       "      <td>42.000000</td>\n",
       "    </tr>\n",
       "    <tr>\n",
       "      <th>A P O'Brien</th>\n",
       "      <td>5.250000</td>\n",
       "      <td>27.625000</td>\n",
       "    </tr>\n",
       "    <tr>\n",
       "      <th>J Size</th>\n",
       "      <td>5.402055</td>\n",
       "      <td>14.690959</td>\n",
       "    </tr>\n",
       "    <tr>\n",
       "      <th>M Sakaguchi</th>\n",
       "      <td>5.500000</td>\n",
       "      <td>23.300000</td>\n",
       "    </tr>\n",
       "    <tr>\n",
       "      <th>G W Moore</th>\n",
       "      <td>6.000000</td>\n",
       "      <td>25.000000</td>\n",
       "    </tr>\n",
       "  </tbody>\n",
       "</table>\n",
       "</div>"
      ],
      "text/plain": [
       "                finishing_position   win_odds\n",
       "trainer                                      \n",
       "M Hawkes                  1.000000   2.800000\n",
       "de Royer Dupre            3.000000  14.500000\n",
       "Y Yahagi                  3.000000  71.000000\n",
       "A Fabre                   3.500000  27.150000\n",
       "N Hori                    3.714286   7.485714\n",
       "M Saito                   4.000000  10.333333\n",
       "M Delzangles              4.000000  22.000000\n",
       "Ed Walker                 5.000000  29.000000\n",
       "R Okubo                   5.000000  69.000000\n",
       "R Hickmott                5.000000  49.000000\n",
       "C Appleby                 5.000000  28.000000\n",
       "O Hirata                  5.000000  37.000000\n",
       "F Rohaut                  5.000000  99.000000\n",
       "J Lau                     5.000000  18.166667\n",
       "T Tanaka                  5.000000  13.000000\n",
       "K Lees                    5.000000  42.000000\n",
       "A P O'Brien               5.250000  27.625000\n",
       "J Size                    5.402055  14.690959\n",
       "M Sakaguchi               5.500000  23.300000\n",
       "G W Moore                 6.000000  25.000000"
      ]
     },
     "execution_count": 52,
     "metadata": {},
     "output_type": "execute_result"
    }
   ],
   "source": [
    "trainer_pivot = pd.pivot_table(df_races, values = ['finishing_position', 'win_odds'], index = 'trainer', aggfunc = 'mean')\n",
    "trainer_pivot = trainer_pivot.sort_values(by = 'finishing_position')\n",
    "trainer_pivot.head(20)"
   ]
  },
  {
   "cell_type": "markdown",
   "metadata": {},
   "source": [
    "# Do cluster analysis on other factors of df_races"
   ]
  },
  {
   "cell_type": "code",
   "execution_count": 53,
   "metadata": {
    "scrolled": false
   },
   "outputs": [
    {
     "data": {
      "text/plain": [
       "12"
      ]
     },
     "execution_count": 53,
     "metadata": {},
     "output_type": "execute_result"
    }
   ],
   "source": [
    "df_races_norm = df_races.copy()\n",
    "df_races_norm = df_races_norm.ix[:,np.r_[0:2, 6:9, 10:14, 15:18]]\n",
    "len(df_races_norm.columns)"
   ]
  },
  {
   "cell_type": "code",
   "execution_count": 54,
   "metadata": {
    "scrolled": true
   },
   "outputs": [
    {
     "data": {
      "text/html": [
       "<div>\n",
       "<style scoped>\n",
       "    .dataframe tbody tr th:only-of-type {\n",
       "        vertical-align: middle;\n",
       "    }\n",
       "\n",
       "    .dataframe tbody tr th {\n",
       "        vertical-align: top;\n",
       "    }\n",
       "\n",
       "    .dataframe thead th {\n",
       "        text-align: right;\n",
       "    }\n",
       "</style>\n",
       "<table border=\"1\" class=\"dataframe\">\n",
       "  <thead>\n",
       "    <tr style=\"text-align: right;\">\n",
       "      <th></th>\n",
       "      <th>finishing_position</th>\n",
       "      <th>horse_number</th>\n",
       "      <th>actual_weight</th>\n",
       "      <th>declared_horse_weight</th>\n",
       "      <th>draw</th>\n",
       "      <th>running_position_1</th>\n",
       "      <th>running_position_2</th>\n",
       "      <th>running_position_3</th>\n",
       "      <th>running_position_4</th>\n",
       "      <th>win_odds</th>\n",
       "      <th>running_position_5</th>\n",
       "      <th>running_position_6</th>\n",
       "    </tr>\n",
       "  </thead>\n",
       "  <tbody>\n",
       "    <tr>\n",
       "      <th>0</th>\n",
       "      <td>-1.564832</td>\n",
       "      <td>-1.568354</td>\n",
       "      <td>1.595424</td>\n",
       "      <td>-1.263071</td>\n",
       "      <td>-1.567277</td>\n",
       "      <td>-1.565163</td>\n",
       "      <td>-1.296884</td>\n",
       "      <td>-1.296523</td>\n",
       "      <td>-0.650286</td>\n",
       "      <td>-0.836850</td>\n",
       "      <td>-0.329104</td>\n",
       "      <td>-0.120223</td>\n",
       "    </tr>\n",
       "    <tr>\n",
       "      <th>1</th>\n",
       "      <td>-1.296432</td>\n",
       "      <td>-1.301895</td>\n",
       "      <td>1.595424</td>\n",
       "      <td>-0.557661</td>\n",
       "      <td>1.639500</td>\n",
       "      <td>0.312506</td>\n",
       "      <td>0.581653</td>\n",
       "      <td>0.582299</td>\n",
       "      <td>-0.426673</td>\n",
       "      <td>-0.704072</td>\n",
       "      <td>-0.329104</td>\n",
       "      <td>-0.120223</td>\n",
       "    </tr>\n",
       "    <tr>\n",
       "      <th>2</th>\n",
       "      <td>-1.028033</td>\n",
       "      <td>0.829775</td>\n",
       "      <td>-0.302275</td>\n",
       "      <td>-0.721710</td>\n",
       "      <td>-1.032814</td>\n",
       "      <td>-1.296924</td>\n",
       "      <td>-1.565247</td>\n",
       "      <td>-1.564926</td>\n",
       "      <td>-0.203060</td>\n",
       "      <td>-0.776784</td>\n",
       "      <td>-0.329104</td>\n",
       "      <td>-0.120223</td>\n",
       "    </tr>\n",
       "    <tr>\n",
       "      <th>3</th>\n",
       "      <td>-0.759633</td>\n",
       "      <td>-1.035436</td>\n",
       "      <td>1.437282</td>\n",
       "      <td>1.853856</td>\n",
       "      <td>-1.300046</td>\n",
       "      <td>-0.223970</td>\n",
       "      <td>-0.760159</td>\n",
       "      <td>-0.491314</td>\n",
       "      <td>0.020553</td>\n",
       "      <td>-0.764138</td>\n",
       "      <td>-0.329104</td>\n",
       "      <td>-0.120223</td>\n",
       "    </tr>\n",
       "    <tr>\n",
       "      <th>4</th>\n",
       "      <td>-0.491234</td>\n",
       "      <td>0.030399</td>\n",
       "      <td>0.330291</td>\n",
       "      <td>0.443036</td>\n",
       "      <td>0.570574</td>\n",
       "      <td>0.580745</td>\n",
       "      <td>0.850016</td>\n",
       "      <td>0.850702</td>\n",
       "      <td>0.244167</td>\n",
       "      <td>-0.764138</td>\n",
       "      <td>-0.329104</td>\n",
       "      <td>-0.120223</td>\n",
       "    </tr>\n",
       "  </tbody>\n",
       "</table>\n",
       "</div>"
      ],
      "text/plain": [
       "   finishing_position  horse_number  actual_weight  declared_horse_weight  \\\n",
       "0           -1.564832     -1.568354       1.595424              -1.263071   \n",
       "1           -1.296432     -1.301895       1.595424              -0.557661   \n",
       "2           -1.028033      0.829775      -0.302275              -0.721710   \n",
       "3           -0.759633     -1.035436       1.437282               1.853856   \n",
       "4           -0.491234      0.030399       0.330291               0.443036   \n",
       "\n",
       "       draw  running_position_1  running_position_2  running_position_3  \\\n",
       "0 -1.567277           -1.565163           -1.296884           -1.296523   \n",
       "1  1.639500            0.312506            0.581653            0.582299   \n",
       "2 -1.032814           -1.296924           -1.565247           -1.564926   \n",
       "3 -1.300046           -0.223970           -0.760159           -0.491314   \n",
       "4  0.570574            0.580745            0.850016            0.850702   \n",
       "\n",
       "   running_position_4  win_odds  running_position_5  running_position_6  \n",
       "0           -0.650286 -0.836850           -0.329104           -0.120223  \n",
       "1           -0.426673 -0.704072           -0.329104           -0.120223  \n",
       "2           -0.203060 -0.776784           -0.329104           -0.120223  \n",
       "3            0.020553 -0.764138           -0.329104           -0.120223  \n",
       "4            0.244167 -0.764138           -0.329104           -0.120223  "
      ]
     },
     "execution_count": 54,
     "metadata": {},
     "output_type": "execute_result"
    }
   ],
   "source": [
    "df_races_norm.ix[:, :12] = skp.scale(df_races_norm.astype(np.float))\n",
    "df_races_norm.head()"
   ]
  },
  {
   "cell_type": "code",
   "execution_count": 55,
   "metadata": {},
   "outputs": [
    {
     "data": {
      "text/html": [
       "<div>\n",
       "<style scoped>\n",
       "    .dataframe tbody tr th:only-of-type {\n",
       "        vertical-align: middle;\n",
       "    }\n",
       "\n",
       "    .dataframe tbody tr th {\n",
       "        vertical-align: top;\n",
       "    }\n",
       "\n",
       "    .dataframe thead th {\n",
       "        text-align: right;\n",
       "    }\n",
       "</style>\n",
       "<table border=\"1\" class=\"dataframe\">\n",
       "  <thead>\n",
       "    <tr style=\"text-align: right;\">\n",
       "      <th></th>\n",
       "      <th>finishing_position</th>\n",
       "      <th>horse_number</th>\n",
       "      <th>actual_weight</th>\n",
       "      <th>declared_horse_weight</th>\n",
       "      <th>draw</th>\n",
       "      <th>running_position_1</th>\n",
       "      <th>running_position_2</th>\n",
       "      <th>running_position_3</th>\n",
       "      <th>running_position_4</th>\n",
       "      <th>win_odds</th>\n",
       "      <th>running_position_5</th>\n",
       "      <th>running_position_6</th>\n",
       "    </tr>\n",
       "  </thead>\n",
       "  <tbody>\n",
       "    <tr>\n",
       "      <th>finishing_position</th>\n",
       "      <td>1.000000</td>\n",
       "      <td>0.124024</td>\n",
       "      <td>-0.108458</td>\n",
       "      <td>-0.046671</td>\n",
       "      <td>0.130978</td>\n",
       "      <td>0.221615</td>\n",
       "      <td>0.275519</td>\n",
       "      <td>0.571582</td>\n",
       "      <td>0.435506</td>\n",
       "      <td>0.481853</td>\n",
       "      <td>0.159878</td>\n",
       "      <td>0.045077</td>\n",
       "    </tr>\n",
       "    <tr>\n",
       "      <th>horse_number</th>\n",
       "      <td>0.124024</td>\n",
       "      <td>1.000000</td>\n",
       "      <td>-0.810116</td>\n",
       "      <td>-0.041350</td>\n",
       "      <td>0.030102</td>\n",
       "      <td>0.082647</td>\n",
       "      <td>0.085893</td>\n",
       "      <td>0.100763</td>\n",
       "      <td>0.084680</td>\n",
       "      <td>0.216966</td>\n",
       "      <td>0.013394</td>\n",
       "      <td>-0.007709</td>\n",
       "    </tr>\n",
       "    <tr>\n",
       "      <th>actual_weight</th>\n",
       "      <td>-0.108458</td>\n",
       "      <td>-0.810116</td>\n",
       "      <td>1.000000</td>\n",
       "      <td>0.029595</td>\n",
       "      <td>-0.001346</td>\n",
       "      <td>-0.012213</td>\n",
       "      <td>-0.019555</td>\n",
       "      <td>-0.057140</td>\n",
       "      <td>-0.034842</td>\n",
       "      <td>-0.220188</td>\n",
       "      <td>-0.011124</td>\n",
       "      <td>-0.010335</td>\n",
       "    </tr>\n",
       "    <tr>\n",
       "      <th>declared_horse_weight</th>\n",
       "      <td>-0.046671</td>\n",
       "      <td>-0.041350</td>\n",
       "      <td>0.029595</td>\n",
       "      <td>1.000000</td>\n",
       "      <td>-0.000739</td>\n",
       "      <td>-0.120099</td>\n",
       "      <td>-0.124434</td>\n",
       "      <td>-0.109249</td>\n",
       "      <td>-0.089584</td>\n",
       "      <td>-0.087586</td>\n",
       "      <td>-0.085148</td>\n",
       "      <td>-0.043192</td>\n",
       "    </tr>\n",
       "    <tr>\n",
       "      <th>draw</th>\n",
       "      <td>0.130978</td>\n",
       "      <td>0.030102</td>\n",
       "      <td>-0.001346</td>\n",
       "      <td>-0.000739</td>\n",
       "      <td>1.000000</td>\n",
       "      <td>0.229295</td>\n",
       "      <td>0.208650</td>\n",
       "      <td>0.169095</td>\n",
       "      <td>0.098034</td>\n",
       "      <td>0.150986</td>\n",
       "      <td>0.017915</td>\n",
       "      <td>-0.010304</td>\n",
       "    </tr>\n",
       "    <tr>\n",
       "      <th>running_position_1</th>\n",
       "      <td>0.221615</td>\n",
       "      <td>0.082647</td>\n",
       "      <td>-0.012213</td>\n",
       "      <td>-0.120099</td>\n",
       "      <td>0.229295</td>\n",
       "      <td>1.000000</td>\n",
       "      <td>0.931504</td>\n",
       "      <td>0.637126</td>\n",
       "      <td>0.172576</td>\n",
       "      <td>0.274955</td>\n",
       "      <td>0.020918</td>\n",
       "      <td>-0.016508</td>\n",
       "    </tr>\n",
       "    <tr>\n",
       "      <th>running_position_2</th>\n",
       "      <td>0.275519</td>\n",
       "      <td>0.085893</td>\n",
       "      <td>-0.019555</td>\n",
       "      <td>-0.124434</td>\n",
       "      <td>0.208650</td>\n",
       "      <td>0.931504</td>\n",
       "      <td>1.000000</td>\n",
       "      <td>0.723813</td>\n",
       "      <td>0.186125</td>\n",
       "      <td>0.297612</td>\n",
       "      <td>0.020884</td>\n",
       "      <td>-0.017554</td>\n",
       "    </tr>\n",
       "    <tr>\n",
       "      <th>running_position_3</th>\n",
       "      <td>0.571582</td>\n",
       "      <td>0.100763</td>\n",
       "      <td>-0.057140</td>\n",
       "      <td>-0.109249</td>\n",
       "      <td>0.169095</td>\n",
       "      <td>0.637126</td>\n",
       "      <td>0.723813</td>\n",
       "      <td>1.000000</td>\n",
       "      <td>0.244486</td>\n",
       "      <td>0.360574</td>\n",
       "      <td>0.025312</td>\n",
       "      <td>-0.017555</td>\n",
       "    </tr>\n",
       "    <tr>\n",
       "      <th>running_position_4</th>\n",
       "      <td>0.435506</td>\n",
       "      <td>0.084680</td>\n",
       "      <td>-0.034842</td>\n",
       "      <td>-0.089584</td>\n",
       "      <td>0.098034</td>\n",
       "      <td>0.172576</td>\n",
       "      <td>0.186125</td>\n",
       "      <td>0.244486</td>\n",
       "      <td>1.000000</td>\n",
       "      <td>0.181453</td>\n",
       "      <td>0.261436</td>\n",
       "      <td>0.067399</td>\n",
       "    </tr>\n",
       "    <tr>\n",
       "      <th>win_odds</th>\n",
       "      <td>0.481853</td>\n",
       "      <td>0.216966</td>\n",
       "      <td>-0.220188</td>\n",
       "      <td>-0.087586</td>\n",
       "      <td>0.150986</td>\n",
       "      <td>0.274955</td>\n",
       "      <td>0.297612</td>\n",
       "      <td>0.360574</td>\n",
       "      <td>0.181453</td>\n",
       "      <td>1.000000</td>\n",
       "      <td>0.011939</td>\n",
       "      <td>-0.006268</td>\n",
       "    </tr>\n",
       "    <tr>\n",
       "      <th>running_position_5</th>\n",
       "      <td>0.159878</td>\n",
       "      <td>0.013394</td>\n",
       "      <td>-0.011124</td>\n",
       "      <td>-0.085148</td>\n",
       "      <td>0.017915</td>\n",
       "      <td>0.020918</td>\n",
       "      <td>0.020884</td>\n",
       "      <td>0.025312</td>\n",
       "      <td>0.261436</td>\n",
       "      <td>0.011939</td>\n",
       "      <td>1.000000</td>\n",
       "      <td>0.278445</td>\n",
       "    </tr>\n",
       "    <tr>\n",
       "      <th>running_position_6</th>\n",
       "      <td>0.045077</td>\n",
       "      <td>-0.007709</td>\n",
       "      <td>-0.010335</td>\n",
       "      <td>-0.043192</td>\n",
       "      <td>-0.010304</td>\n",
       "      <td>-0.016508</td>\n",
       "      <td>-0.017554</td>\n",
       "      <td>-0.017555</td>\n",
       "      <td>0.067399</td>\n",
       "      <td>-0.006268</td>\n",
       "      <td>0.278445</td>\n",
       "      <td>1.000000</td>\n",
       "    </tr>\n",
       "  </tbody>\n",
       "</table>\n",
       "</div>"
      ],
      "text/plain": [
       "                       finishing_position  horse_number  actual_weight  \\\n",
       "finishing_position               1.000000      0.124024      -0.108458   \n",
       "horse_number                     0.124024      1.000000      -0.810116   \n",
       "actual_weight                   -0.108458     -0.810116       1.000000   \n",
       "declared_horse_weight           -0.046671     -0.041350       0.029595   \n",
       "draw                             0.130978      0.030102      -0.001346   \n",
       "running_position_1               0.221615      0.082647      -0.012213   \n",
       "running_position_2               0.275519      0.085893      -0.019555   \n",
       "running_position_3               0.571582      0.100763      -0.057140   \n",
       "running_position_4               0.435506      0.084680      -0.034842   \n",
       "win_odds                         0.481853      0.216966      -0.220188   \n",
       "running_position_5               0.159878      0.013394      -0.011124   \n",
       "running_position_6               0.045077     -0.007709      -0.010335   \n",
       "\n",
       "                       declared_horse_weight      draw  running_position_1  \\\n",
       "finishing_position                 -0.046671  0.130978            0.221615   \n",
       "horse_number                       -0.041350  0.030102            0.082647   \n",
       "actual_weight                       0.029595 -0.001346           -0.012213   \n",
       "declared_horse_weight               1.000000 -0.000739           -0.120099   \n",
       "draw                               -0.000739  1.000000            0.229295   \n",
       "running_position_1                 -0.120099  0.229295            1.000000   \n",
       "running_position_2                 -0.124434  0.208650            0.931504   \n",
       "running_position_3                 -0.109249  0.169095            0.637126   \n",
       "running_position_4                 -0.089584  0.098034            0.172576   \n",
       "win_odds                           -0.087586  0.150986            0.274955   \n",
       "running_position_5                 -0.085148  0.017915            0.020918   \n",
       "running_position_6                 -0.043192 -0.010304           -0.016508   \n",
       "\n",
       "                       running_position_2  running_position_3  \\\n",
       "finishing_position               0.275519            0.571582   \n",
       "horse_number                     0.085893            0.100763   \n",
       "actual_weight                   -0.019555           -0.057140   \n",
       "declared_horse_weight           -0.124434           -0.109249   \n",
       "draw                             0.208650            0.169095   \n",
       "running_position_1               0.931504            0.637126   \n",
       "running_position_2               1.000000            0.723813   \n",
       "running_position_3               0.723813            1.000000   \n",
       "running_position_4               0.186125            0.244486   \n",
       "win_odds                         0.297612            0.360574   \n",
       "running_position_5               0.020884            0.025312   \n",
       "running_position_6              -0.017554           -0.017555   \n",
       "\n",
       "                       running_position_4  win_odds  running_position_5  \\\n",
       "finishing_position               0.435506  0.481853            0.159878   \n",
       "horse_number                     0.084680  0.216966            0.013394   \n",
       "actual_weight                   -0.034842 -0.220188           -0.011124   \n",
       "declared_horse_weight           -0.089584 -0.087586           -0.085148   \n",
       "draw                             0.098034  0.150986            0.017915   \n",
       "running_position_1               0.172576  0.274955            0.020918   \n",
       "running_position_2               0.186125  0.297612            0.020884   \n",
       "running_position_3               0.244486  0.360574            0.025312   \n",
       "running_position_4               1.000000  0.181453            0.261436   \n",
       "win_odds                         0.181453  1.000000            0.011939   \n",
       "running_position_5               0.261436  0.011939            1.000000   \n",
       "running_position_6               0.067399 -0.006268            0.278445   \n",
       "\n",
       "                       running_position_6  \n",
       "finishing_position               0.045077  \n",
       "horse_number                    -0.007709  \n",
       "actual_weight                   -0.010335  \n",
       "declared_horse_weight           -0.043192  \n",
       "draw                            -0.010304  \n",
       "running_position_1              -0.016508  \n",
       "running_position_2              -0.017554  \n",
       "running_position_3              -0.017555  \n",
       "running_position_4               0.067399  \n",
       "win_odds                        -0.006268  \n",
       "running_position_5               0.278445  \n",
       "running_position_6               1.000000  "
      ]
     },
     "execution_count": 55,
     "metadata": {},
     "output_type": "execute_result"
    }
   ],
   "source": [
    "df_races_norm.corr()"
   ]
  },
  {
   "cell_type": "code",
   "execution_count": 56,
   "metadata": {},
   "outputs": [
    {
     "data": {
      "image/png": "[encoded data removed]",
      "text/plain": [
       "<matplotlib.figure.Figure at 0x11f9b5f60>"
      ]
     },
     "metadata": {},
     "output_type": "display_data"
    }
   ],
   "source": [
    "cg = sns.clustermap(df_races_norm.corr(),cmap=plt.cm.OrRd)\n",
    "plot = plt.setp(cg.ax_heatmap.yaxis.get_majorticklabels(), rotation=0)"
   ]
  },
  {
   "cell_type": "code",
   "execution_count": 57,
   "metadata": {},
   "outputs": [
    {
     "data": {
      "text/html": [
       "<div>\n",
       "<style scoped>\n",
       "    .dataframe tbody tr th:only-of-type {\n",
       "        vertical-align: middle;\n",
       "    }\n",
       "\n",
       "    .dataframe tbody tr th {\n",
       "        vertical-align: top;\n",
       "    }\n",
       "\n",
       "    .dataframe thead th {\n",
       "        text-align: right;\n",
       "    }\n",
       "</style>\n",
       "<table border=\"1\" class=\"dataframe\">\n",
       "  <thead>\n",
       "    <tr style=\"text-align: right;\">\n",
       "      <th></th>\n",
       "      <th>finishing_position</th>\n",
       "      <th>horse_number</th>\n",
       "      <th>actual_weight</th>\n",
       "      <th>declared_horse_weight</th>\n",
       "      <th>draw</th>\n",
       "      <th>running_position_1</th>\n",
       "      <th>running_position_2</th>\n",
       "      <th>running_position_3</th>\n",
       "      <th>running_position_4</th>\n",
       "      <th>win_odds</th>\n",
       "      <th>running_position_5</th>\n",
       "      <th>running_position_6</th>\n",
       "      <th>horse_name</th>\n",
       "    </tr>\n",
       "  </thead>\n",
       "  <tbody>\n",
       "    <tr>\n",
       "      <th>0</th>\n",
       "      <td>-1.564832</td>\n",
       "      <td>-1.568354</td>\n",
       "      <td>1.595424</td>\n",
       "      <td>-1.263071</td>\n",
       "      <td>-1.567277</td>\n",
       "      <td>-1.565163</td>\n",
       "      <td>-1.296884</td>\n",
       "      <td>-1.296523</td>\n",
       "      <td>-0.650286</td>\n",
       "      <td>-0.836850</td>\n",
       "      <td>-0.329104</td>\n",
       "      <td>-0.120223</td>\n",
       "      <td>DOUBLE DRAGON</td>\n",
       "    </tr>\n",
       "    <tr>\n",
       "      <th>1</th>\n",
       "      <td>-1.296432</td>\n",
       "      <td>-1.301895</td>\n",
       "      <td>1.595424</td>\n",
       "      <td>-0.557661</td>\n",
       "      <td>1.639500</td>\n",
       "      <td>0.312506</td>\n",
       "      <td>0.581653</td>\n",
       "      <td>0.582299</td>\n",
       "      <td>-0.426673</td>\n",
       "      <td>-0.704072</td>\n",
       "      <td>-0.329104</td>\n",
       "      <td>-0.120223</td>\n",
       "      <td>PLAIN BLUE BANNER</td>\n",
       "    </tr>\n",
       "    <tr>\n",
       "      <th>2</th>\n",
       "      <td>-1.028033</td>\n",
       "      <td>0.829775</td>\n",
       "      <td>-0.302275</td>\n",
       "      <td>-0.721710</td>\n",
       "      <td>-1.032814</td>\n",
       "      <td>-1.296924</td>\n",
       "      <td>-1.565247</td>\n",
       "      <td>-1.564926</td>\n",
       "      <td>-0.203060</td>\n",
       "      <td>-0.776784</td>\n",
       "      <td>-0.329104</td>\n",
       "      <td>-0.120223</td>\n",
       "      <td>GOLDWEAVER</td>\n",
       "    </tr>\n",
       "    <tr>\n",
       "      <th>3</th>\n",
       "      <td>-0.759633</td>\n",
       "      <td>-1.035436</td>\n",
       "      <td>1.437282</td>\n",
       "      <td>1.853856</td>\n",
       "      <td>-1.300046</td>\n",
       "      <td>-0.223970</td>\n",
       "      <td>-0.760159</td>\n",
       "      <td>-0.491314</td>\n",
       "      <td>0.020553</td>\n",
       "      <td>-0.764138</td>\n",
       "      <td>-0.329104</td>\n",
       "      <td>-0.120223</td>\n",
       "      <td>SUPREME PROFIT</td>\n",
       "    </tr>\n",
       "    <tr>\n",
       "      <th>4</th>\n",
       "      <td>-0.491234</td>\n",
       "      <td>0.030399</td>\n",
       "      <td>0.330291</td>\n",
       "      <td>0.443036</td>\n",
       "      <td>0.570574</td>\n",
       "      <td>0.580745</td>\n",
       "      <td>0.850016</td>\n",
       "      <td>0.850702</td>\n",
       "      <td>0.244167</td>\n",
       "      <td>-0.764138</td>\n",
       "      <td>-0.329104</td>\n",
       "      <td>-0.120223</td>\n",
       "      <td>THE ONLY KID</td>\n",
       "    </tr>\n",
       "  </tbody>\n",
       "</table>\n",
       "</div>"
      ],
      "text/plain": [
       "   finishing_position  horse_number  actual_weight  declared_horse_weight  \\\n",
       "0           -1.564832     -1.568354       1.595424              -1.263071   \n",
       "1           -1.296432     -1.301895       1.595424              -0.557661   \n",
       "2           -1.028033      0.829775      -0.302275              -0.721710   \n",
       "3           -0.759633     -1.035436       1.437282               1.853856   \n",
       "4           -0.491234      0.030399       0.330291               0.443036   \n",
       "\n",
       "       draw  running_position_1  running_position_2  running_position_3  \\\n",
       "0 -1.567277           -1.565163           -1.296884           -1.296523   \n",
       "1  1.639500            0.312506            0.581653            0.582299   \n",
       "2 -1.032814           -1.296924           -1.565247           -1.564926   \n",
       "3 -1.300046           -0.223970           -0.760159           -0.491314   \n",
       "4  0.570574            0.580745            0.850016            0.850702   \n",
       "\n",
       "   running_position_4  win_odds  running_position_5  running_position_6  \\\n",
       "0           -0.650286 -0.836850           -0.329104           -0.120223   \n",
       "1           -0.426673 -0.704072           -0.329104           -0.120223   \n",
       "2           -0.203060 -0.776784           -0.329104           -0.120223   \n",
       "3            0.020553 -0.764138           -0.329104           -0.120223   \n",
       "4            0.244167 -0.764138           -0.329104           -0.120223   \n",
       "\n",
       "          horse_name  \n",
       "0      DOUBLE DRAGON  \n",
       "1  PLAIN BLUE BANNER  \n",
       "2         GOLDWEAVER  \n",
       "3     SUPREME PROFIT  \n",
       "4       THE ONLY KID  "
      ]
     },
     "execution_count": 57,
     "metadata": {},
     "output_type": "execute_result"
    }
   ],
   "source": [
    "df_races_norm['horse_name'] = df_races['horse_name']\n",
    "df_races_norm.head()"
   ]
  },
  {
   "cell_type": "code",
   "execution_count": 58,
   "metadata": {},
   "outputs": [
    {
     "data": {
      "text/html": [
       "<div>\n",
       "<style scoped>\n",
       "    .dataframe tbody tr th:only-of-type {\n",
       "        vertical-align: middle;\n",
       "    }\n",
       "\n",
       "    .dataframe tbody tr th {\n",
       "        vertical-align: top;\n",
       "    }\n",
       "\n",
       "    .dataframe thead th {\n",
       "        text-align: right;\n",
       "    }\n",
       "</style>\n",
       "<table border=\"1\" class=\"dataframe\">\n",
       "  <thead>\n",
       "    <tr style=\"text-align: right;\">\n",
       "      <th></th>\n",
       "      <th>finishing_position</th>\n",
       "      <th>horse_number</th>\n",
       "      <th>actual_weight</th>\n",
       "      <th>declared_horse_weight</th>\n",
       "      <th>draw</th>\n",
       "      <th>running_position_1</th>\n",
       "      <th>running_position_2</th>\n",
       "      <th>running_position_3</th>\n",
       "      <th>running_position_4</th>\n",
       "      <th>win_odds</th>\n",
       "      <th>running_position_5</th>\n",
       "      <th>running_position_6</th>\n",
       "    </tr>\n",
       "    <tr>\n",
       "      <th>horse_name</th>\n",
       "      <th></th>\n",
       "      <th></th>\n",
       "      <th></th>\n",
       "      <th></th>\n",
       "      <th></th>\n",
       "      <th></th>\n",
       "      <th></th>\n",
       "      <th></th>\n",
       "      <th></th>\n",
       "      <th></th>\n",
       "      <th></th>\n",
       "      <th></th>\n",
       "    </tr>\n",
       "  </thead>\n",
       "  <tbody>\n",
       "    <tr>\n",
       "      <th>A BEAUTIFUL</th>\n",
       "      <td>0.103913</td>\n",
       "      <td>-0.027527</td>\n",
       "      <td>-0.171637</td>\n",
       "      <td>-0.723850</td>\n",
       "      <td>-0.138170</td>\n",
       "      <td>-0.235633</td>\n",
       "      <td>-0.176763</td>\n",
       "      <td>-0.059535</td>\n",
       "      <td>-0.368339</td>\n",
       "      <td>0.391694</td>\n",
       "      <td>-0.329104</td>\n",
       "      <td>-0.120223</td>\n",
       "    </tr>\n",
       "    <tr>\n",
       "      <th>A FAST ONE</th>\n",
       "      <td>-0.210053</td>\n",
       "      <td>0.474497</td>\n",
       "      <td>-0.400172</td>\n",
       "      <td>-0.374864</td>\n",
       "      <td>-0.078416</td>\n",
       "      <td>0.363599</td>\n",
       "      <td>0.313291</td>\n",
       "      <td>-0.210130</td>\n",
       "      <td>-0.873899</td>\n",
       "      <td>0.215743</td>\n",
       "      <td>-0.329104</td>\n",
       "      <td>-0.120223</td>\n",
       "    </tr>\n",
       "    <tr>\n",
       "      <th>A SHIN HIKARI</th>\n",
       "      <td>-0.357034</td>\n",
       "      <td>-0.236060</td>\n",
       "      <td>0.488433</td>\n",
       "      <td>0.221570</td>\n",
       "      <td>-0.231120</td>\n",
       "      <td>-1.565163</td>\n",
       "      <td>-1.565247</td>\n",
       "      <td>-1.564926</td>\n",
       "      <td>-0.650286</td>\n",
       "      <td>-0.220379</td>\n",
       "      <td>1.771392</td>\n",
       "      <td>-0.120223</td>\n",
       "    </tr>\n",
       "    <tr>\n",
       "      <th>A SHIN HOOF</th>\n",
       "      <td>-0.491234</td>\n",
       "      <td>-1.568354</td>\n",
       "      <td>0.962857</td>\n",
       "      <td>-2.148935</td>\n",
       "      <td>0.169727</td>\n",
       "      <td>-0.223970</td>\n",
       "      <td>-0.089253</td>\n",
       "      <td>-0.491314</td>\n",
       "      <td>-0.873899</td>\n",
       "      <td>0.576292</td>\n",
       "      <td>-0.329104</td>\n",
       "      <td>-0.120223</td>\n",
       "    </tr>\n",
       "    <tr>\n",
       "      <th>A STAR LUSTER</th>\n",
       "      <td>1.119163</td>\n",
       "      <td>-0.369289</td>\n",
       "      <td>0.172149</td>\n",
       "      <td>0.385619</td>\n",
       "      <td>-0.231120</td>\n",
       "      <td>1.385460</td>\n",
       "      <td>0.984197</td>\n",
       "      <td>1.119105</td>\n",
       "      <td>-0.873899</td>\n",
       "      <td>2.172795</td>\n",
       "      <td>-0.329104</td>\n",
       "      <td>-0.120223</td>\n",
       "    </tr>\n",
       "  </tbody>\n",
       "</table>\n",
       "</div>"
      ],
      "text/plain": [
       "               finishing_position  horse_number  actual_weight  \\\n",
       "horse_name                                                       \n",
       "A BEAUTIFUL              0.103913     -0.027527      -0.171637   \n",
       "A FAST ONE              -0.210053      0.474497      -0.400172   \n",
       "A SHIN HIKARI           -0.357034     -0.236060       0.488433   \n",
       "A SHIN HOOF             -0.491234     -1.568354       0.962857   \n",
       "A STAR LUSTER            1.119163     -0.369289       0.172149   \n",
       "\n",
       "               declared_horse_weight      draw  running_position_1  \\\n",
       "horse_name                                                           \n",
       "A BEAUTIFUL                -0.723850 -0.138170           -0.235633   \n",
       "A FAST ONE                 -0.374864 -0.078416            0.363599   \n",
       "A SHIN HIKARI               0.221570 -0.231120           -1.565163   \n",
       "A SHIN HOOF                -2.148935  0.169727           -0.223970   \n",
       "A STAR LUSTER               0.385619 -0.231120            1.385460   \n",
       "\n",
       "               running_position_2  running_position_3  running_position_4  \\\n",
       "horse_name                                                                  \n",
       "A BEAUTIFUL             -0.176763           -0.059535           -0.368339   \n",
       "A FAST ONE               0.313291           -0.210130           -0.873899   \n",
       "A SHIN HIKARI           -1.565247           -1.564926           -0.650286   \n",
       "A SHIN HOOF             -0.089253           -0.491314           -0.873899   \n",
       "A STAR LUSTER            0.984197            1.119105           -0.873899   \n",
       "\n",
       "               win_odds  running_position_5  running_position_6  \n",
       "horse_name                                                       \n",
       "A BEAUTIFUL    0.391694           -0.329104           -0.120223  \n",
       "A FAST ONE     0.215743           -0.329104           -0.120223  \n",
       "A SHIN HIKARI -0.220379            1.771392           -0.120223  \n",
       "A SHIN HOOF    0.576292           -0.329104           -0.120223  \n",
       "A STAR LUSTER  2.172795           -0.329104           -0.120223  "
      ]
     },
     "execution_count": 58,
     "metadata": {},
     "output_type": "execute_result"
    }
   ],
   "source": [
    "df_byhorse = df_races_norm.groupby('horse_name').mean()\n",
    "df_byhorse.head()"
   ]
  },
  {
   "cell_type": "code",
   "execution_count": 59,
   "metadata": {},
   "outputs": [
    {
     "data": {
      "text/plain": [
       "(12, 12)"
      ]
     },
     "execution_count": 59,
     "metadata": {},
     "output_type": "execute_result"
    }
   ],
   "source": [
    "pca_model = skd.PCA().fit(df_races_norm.drop(['horse_name'], axis = 1))\n",
    "pca_model.components_.shape"
   ]
  },
  {
   "cell_type": "code",
   "execution_count": 60,
   "metadata": {},
   "outputs": [
    {
     "data": {
      "text/plain": [
       "array([3.29014101, 1.82665808, 1.47516214, 1.1043566 , 0.97221783,\n",
       "       0.90313589, 0.81149529, 0.63206883, 0.51839817, 0.22201896,\n",
       "       0.18501482, 0.05933238])"
      ]
     },
     "execution_count": 60,
     "metadata": {},
     "output_type": "execute_result"
    }
   ],
   "source": [
    "pca_model.explained_variance_"
   ]
  },
  {
   "cell_type": "code",
   "execution_count": 61,
   "metadata": {},
   "outputs": [
    {
     "data": {
      "text/plain": [
       "[<matplotlib.lines.Line2D at 0x11b165048>]"
      ]
     },
     "execution_count": 61,
     "metadata": {},
     "output_type": "execute_result"
    },
    {
     "data": {
      "image/png": "[encoded data removed]",
      "text/plain": [
       "<matplotlib.figure.Figure at 0x11fe42e48>"
      ]
     },
     "metadata": {},
     "output_type": "display_data"
    }
   ],
   "source": [
    "plt.plot(range(1,13),pca_model.explained_variance_,'b-o')"
   ]
  },
  {
   "cell_type": "code",
   "execution_count": 62,
   "metadata": {
    "collapsed": true
   },
   "outputs": [],
   "source": [
    "#Keep 4 components"
   ]
  },
  {
   "cell_type": "code",
   "execution_count": 63,
   "metadata": {},
   "outputs": [
    {
     "data": {
      "image/png": "[encoded data removed]",
      "text/plain": [
       "<matplotlib.figure.Figure at 0x1134ac5c0>"
      ]
     },
     "metadata": {},
     "output_type": "display_data"
    }
   ],
   "source": [
    "# Scatterplot of disaggregated data\n",
    "X = pca_model.transform(df_races_norm.ix[:,:12])\n",
    "plt.figure(figsize=(8,6))\n",
    "plt.scatter(X[:,0], X[:,1])\n",
    "plt.xlabel('PC1')\n",
    "plt.ylabel('PC2')\n",
    "plt.title('PCA biplot')\n",
    "plt.ylim(-4, 6)\n",
    "\n",
    "# Add variable unit vector projections\n",
    "V = pca_model.transform(np.identity(X.shape[1]))\n",
    "for i, v in enumerate(V):\n",
    "    plt.annotate(df_races_norm.columns[i], \n",
    "                 xy=(0,0), xytext=v[:2]*10, \n",
    "                 fontsize=13, color='orange',\n",
    "                 arrowprops=dict(\n",
    "                    arrowstyle='<-', linewidth=2, color='orange'))"
   ]
  },
  {
   "cell_type": "code",
   "execution_count": 64,
   "metadata": {},
   "outputs": [
    {
     "data": {
      "text/html": [
       "<div>\n",
       "<style scoped>\n",
       "    .dataframe tbody tr th:only-of-type {\n",
       "        vertical-align: middle;\n",
       "    }\n",
       "\n",
       "    .dataframe tbody tr th {\n",
       "        vertical-align: top;\n",
       "    }\n",
       "\n",
       "    .dataframe thead th {\n",
       "        text-align: right;\n",
       "    }\n",
       "</style>\n",
       "<table border=\"1\" class=\"dataframe\">\n",
       "  <thead>\n",
       "    <tr style=\"text-align: right;\">\n",
       "      <th></th>\n",
       "      <th>Factor1</th>\n",
       "      <th>Factor2</th>\n",
       "    </tr>\n",
       "  </thead>\n",
       "  <tbody>\n",
       "    <tr>\n",
       "      <th>finishing_position</th>\n",
       "      <td>0.278458</td>\n",
       "      <td>0.132332</td>\n",
       "    </tr>\n",
       "    <tr>\n",
       "      <th>horse_number</th>\n",
       "      <td>0.088523</td>\n",
       "      <td>0.883090</td>\n",
       "    </tr>\n",
       "    <tr>\n",
       "      <th>actual_weight</th>\n",
       "      <td>-0.021892</td>\n",
       "      <td>-0.913475</td>\n",
       "    </tr>\n",
       "    <tr>\n",
       "      <th>declared_horse_weight</th>\n",
       "      <td>-0.125086</td>\n",
       "      <td>-0.033791</td>\n",
       "    </tr>\n",
       "    <tr>\n",
       "      <th>draw</th>\n",
       "      <td>0.210407</td>\n",
       "      <td>0.007801</td>\n",
       "    </tr>\n",
       "    <tr>\n",
       "      <th>running_position_1</th>\n",
       "      <td>0.933116</td>\n",
       "      <td>-0.006439</td>\n",
       "    </tr>\n",
       "    <tr>\n",
       "      <th>running_position_2</th>\n",
       "      <td>0.997979</td>\n",
       "      <td>-0.002706</td>\n",
       "    </tr>\n",
       "    <tr>\n",
       "      <th>running_position_3</th>\n",
       "      <td>0.725005</td>\n",
       "      <td>0.054859</td>\n",
       "    </tr>\n",
       "    <tr>\n",
       "      <th>running_position_4</th>\n",
       "      <td>0.187986</td>\n",
       "      <td>0.064028</td>\n",
       "    </tr>\n",
       "    <tr>\n",
       "      <th>win_odds</th>\n",
       "      <td>0.300170</td>\n",
       "      <td>0.235264</td>\n",
       "    </tr>\n",
       "    <tr>\n",
       "      <th>running_position_5</th>\n",
       "      <td>0.021476</td>\n",
       "      <td>0.017443</td>\n",
       "    </tr>\n",
       "    <tr>\n",
       "      <th>running_position_6</th>\n",
       "      <td>-0.017472</td>\n",
       "      <td>0.005812</td>\n",
       "    </tr>\n",
       "  </tbody>\n",
       "</table>\n",
       "</div>"
      ],
      "text/plain": [
       "                        Factor1   Factor2\n",
       "finishing_position     0.278458  0.132332\n",
       "horse_number           0.088523  0.883090\n",
       "actual_weight         -0.021892 -0.913475\n",
       "declared_horse_weight -0.125086 -0.033791\n",
       "draw                   0.210407  0.007801\n",
       "running_position_1     0.933116 -0.006439\n",
       "running_position_2     0.997979 -0.002706\n",
       "running_position_3     0.725005  0.054859\n",
       "running_position_4     0.187986  0.064028\n",
       "win_odds               0.300170  0.235264\n",
       "running_position_5     0.021476  0.017443\n",
       "running_position_6    -0.017472  0.005812"
      ]
     },
     "execution_count": 64,
     "metadata": {},
     "output_type": "execute_result"
    }
   ],
   "source": [
    "# Create a three-factor model\n",
    "fa_model = skd.FactorAnalysis(n_components=2).fit(df_races_norm.drop(['horse_name'], axis = 1))\n",
    "\n",
    "# Show the loadings\n",
    "df_loadings = pd.DataFrame(fa_model.components_[:3,:].T, \n",
    "                   index=df_races_norm.describe().columns,\n",
    "                   columns=['Factor1', 'Factor2'])\n",
    "df_loadings"
   ]
  },
  {
   "cell_type": "code",
   "execution_count": 65,
   "metadata": {},
   "outputs": [
    {
     "data": {
      "text/html": [
       "<div>\n",
       "<style scoped>\n",
       "    .dataframe tbody tr th:only-of-type {\n",
       "        vertical-align: middle;\n",
       "    }\n",
       "\n",
       "    .dataframe tbody tr th {\n",
       "        vertical-align: top;\n",
       "    }\n",
       "\n",
       "    .dataframe thead th {\n",
       "        text-align: right;\n",
       "    }\n",
       "</style>\n",
       "<table border=\"1\" class=\"dataframe\">\n",
       "  <thead>\n",
       "    <tr style=\"text-align: right;\">\n",
       "      <th></th>\n",
       "      <th>Factor1</th>\n",
       "      <th>Factor2</th>\n",
       "      <th>Factor 3</th>\n",
       "    </tr>\n",
       "  </thead>\n",
       "  <tbody>\n",
       "    <tr>\n",
       "      <th>finishing_position</th>\n",
       "      <td>0.337844</td>\n",
       "      <td>0.936192</td>\n",
       "      <td>-0.017916</td>\n",
       "    </tr>\n",
       "    <tr>\n",
       "      <th>horse_number</th>\n",
       "      <td>0.093774</td>\n",
       "      <td>0.114732</td>\n",
       "      <td>0.835648</td>\n",
       "    </tr>\n",
       "    <tr>\n",
       "      <th>actual_weight</th>\n",
       "      <td>-0.027726</td>\n",
       "      <td>-0.123993</td>\n",
       "      <td>-0.949261</td>\n",
       "    </tr>\n",
       "    <tr>\n",
       "      <th>declared_horse_weight</th>\n",
       "      <td>-0.125333</td>\n",
       "      <td>-0.006004</td>\n",
       "      <td>-0.028884</td>\n",
       "    </tr>\n",
       "    <tr>\n",
       "      <th>draw</th>\n",
       "      <td>0.213903</td>\n",
       "      <td>0.062757</td>\n",
       "      <td>-0.008949</td>\n",
       "    </tr>\n",
       "    <tr>\n",
       "      <th>running_position_1</th>\n",
       "      <td>0.927868</td>\n",
       "      <td>-0.098205</td>\n",
       "      <td>0.000610</td>\n",
       "    </tr>\n",
       "    <tr>\n",
       "      <th>running_position_2</th>\n",
       "      <td>0.996928</td>\n",
       "      <td>-0.065462</td>\n",
       "      <td>0.000006</td>\n",
       "    </tr>\n",
       "    <tr>\n",
       "      <th>running_position_3</th>\n",
       "      <td>0.748041</td>\n",
       "      <td>0.340081</td>\n",
       "      <td>-0.007054</td>\n",
       "    </tr>\n",
       "    <tr>\n",
       "      <th>running_position_4</th>\n",
       "      <td>0.212202</td>\n",
       "      <td>0.387929</td>\n",
       "      <td>-0.012635</td>\n",
       "    </tr>\n",
       "    <tr>\n",
       "      <th>win_odds</th>\n",
       "      <td>0.324942</td>\n",
       "      <td>0.400168</td>\n",
       "      <td>0.169936</td>\n",
       "    </tr>\n",
       "    <tr>\n",
       "      <th>running_position_5</th>\n",
       "      <td>0.031338</td>\n",
       "      <td>0.159387</td>\n",
       "      <td>-0.010919</td>\n",
       "    </tr>\n",
       "    <tr>\n",
       "      <th>running_position_6</th>\n",
       "      <td>-0.014172</td>\n",
       "      <td>0.053524</td>\n",
       "      <td>0.000192</td>\n",
       "    </tr>\n",
       "  </tbody>\n",
       "</table>\n",
       "</div>"
      ],
      "text/plain": [
       "                        Factor1   Factor2  Factor 3\n",
       "finishing_position     0.337844  0.936192 -0.017916\n",
       "horse_number           0.093774  0.114732  0.835648\n",
       "actual_weight         -0.027726 -0.123993 -0.949261\n",
       "declared_horse_weight -0.125333 -0.006004 -0.028884\n",
       "draw                   0.213903  0.062757 -0.008949\n",
       "running_position_1     0.927868 -0.098205  0.000610\n",
       "running_position_2     0.996928 -0.065462  0.000006\n",
       "running_position_3     0.748041  0.340081 -0.007054\n",
       "running_position_4     0.212202  0.387929 -0.012635\n",
       "win_odds               0.324942  0.400168  0.169936\n",
       "running_position_5     0.031338  0.159387 -0.010919\n",
       "running_position_6    -0.014172  0.053524  0.000192"
      ]
     },
     "execution_count": 65,
     "metadata": {},
     "output_type": "execute_result"
    }
   ],
   "source": [
    "# Create a three-factor model\n",
    "fa_model = skd.FactorAnalysis(n_components=3).fit(df_races_norm.drop(['horse_name'], axis = 1))\n",
    "\n",
    "# Show the loadings\n",
    "df_loadings = pd.DataFrame(fa_model.components_[:3,:].T, \n",
    "                   index=df_races_norm.describe().columns,\n",
    "                   columns=['Factor1', 'Factor2', 'Factor 3'])\n",
    "df_loadings"
   ]
  },
  {
   "cell_type": "code",
   "execution_count": 66,
   "metadata": {
    "scrolled": true
   },
   "outputs": [
    {
     "data": {
      "image/png": "[encoded data removed]",
      "text/plain": [
       "<matplotlib.figure.Figure at 0x11dc81550>"
      ]
     },
     "metadata": {},
     "output_type": "display_data"
    }
   ],
   "source": [
    "cg = sns.clustermap(df_loadings)\n",
    "plot = plt.setp(cg.ax_heatmap.yaxis.get_majorticklabels(), rotation=0)\n"
   ]
  },
  {
   "cell_type": "code",
   "execution_count": 67,
   "metadata": {
    "collapsed": true
   },
   "outputs": [],
   "source": [
    "#Horses who were frequently in low positions tended to have lower winning odds and by far the lowest\n",
    "#finishing position."
   ]
  },
  {
   "cell_type": "markdown",
   "metadata": {},
   "source": [
    "# Build a multivariate linear model to predict finishing position and determine important factors"
   ]
  },
  {
   "cell_type": "code",
   "execution_count": 68,
   "metadata": {
    "collapsed": true
   },
   "outputs": [],
   "source": [
    "#convert dtypes\n",
    "df_races['actual_weight'] = df_races['actual_weight'].astype(float)\n",
    "df_races['declared_horse_weight'] = df_races['declared_horse_weight'].astype(float)\n",
    "df_races['total_weight'] = df_races['declared_horse_weight'] + df_races['actual_weight']"
   ]
  },
  {
   "cell_type": "code",
   "execution_count": 69,
   "metadata": {},
   "outputs": [
    {
     "data": {
      "text/html": [
       "<table class=\"simpletable\">\n",
       "<caption>OLS Regression Results</caption>\n",
       "<tr>\n",
       "  <th>Dep. Variable:</th>    <td>finishing_position</td> <th>  R-squared:         </th> <td>   0.547</td> \n",
       "</tr>\n",
       "<tr>\n",
       "  <th>Model:</th>                    <td>OLS</td>        <th>  Adj. R-squared:    </th> <td>   0.547</td> \n",
       "</tr>\n",
       "<tr>\n",
       "  <th>Method:</th>              <td>Least Squares</td>   <th>  F-statistic:       </th> <td>   3934.</td> \n",
       "</tr>\n",
       "<tr>\n",
       "  <th>Date:</th>              <td>Tue, 17 Apr 2018</td>  <th>  Prob (F-statistic):</th>  <td>  0.00</td>  \n",
       "</tr>\n",
       "<tr>\n",
       "  <th>Time:</th>                  <td>22:03:35</td>      <th>  Log-Likelihood:    </th> <td> -68670.</td> \n",
       "</tr>\n",
       "<tr>\n",
       "  <th>No. Observations:</th>       <td> 29364</td>       <th>  AIC:               </th> <td>1.374e+05</td>\n",
       "</tr>\n",
       "<tr>\n",
       "  <th>Df Residuals:</th>           <td> 29354</td>       <th>  BIC:               </th> <td>1.374e+05</td>\n",
       "</tr>\n",
       "<tr>\n",
       "  <th>Df Model:</th>               <td>     9</td>       <th>                     </th>     <td> </td>    \n",
       "</tr>\n",
       "<tr>\n",
       "  <th>Covariance Type:</th>       <td>nonrobust</td>     <th>                     </th>     <td> </td>    \n",
       "</tr>\n",
       "</table>\n",
       "<table class=\"simpletable\">\n",
       "<tr>\n",
       "           <td></td>             <th>coef</th>     <th>std err</th>      <th>t</th>      <th>P>|t|</th>  <th>[0.025</th>    <th>0.975]</th>  \n",
       "</tr>\n",
       "<tr>\n",
       "  <th>Intercept</th>          <td>   -0.3145</td> <td>    0.309</td> <td>   -1.017</td> <td> 0.309</td> <td>   -0.921</td> <td>    0.292</td>\n",
       "</tr>\n",
       "<tr>\n",
       "  <th>win_odds</th>           <td>    0.0359</td> <td>    0.001</td> <td>   70.354</td> <td> 0.000</td> <td>    0.035</td> <td>    0.037</td>\n",
       "</tr>\n",
       "<tr>\n",
       "  <th>total_weight</th>       <td>    0.0024</td> <td>    0.000</td> <td>    9.960</td> <td> 0.000</td> <td>    0.002</td> <td>    0.003</td>\n",
       "</tr>\n",
       "<tr>\n",
       "  <th>horse_number</th>       <td>    0.0036</td> <td>    0.004</td> <td>    0.906</td> <td> 0.365</td> <td>   -0.004</td> <td>    0.012</td>\n",
       "</tr>\n",
       "<tr>\n",
       "  <th>running_position_1</th> <td>   -0.0837</td> <td>    0.011</td> <td>   -7.658</td> <td> 0.000</td> <td>   -0.105</td> <td>   -0.062</td>\n",
       "</tr>\n",
       "<tr>\n",
       "  <th>running_position_2</th> <td>   -0.2329</td> <td>    0.012</td> <td>  -19.086</td> <td> 0.000</td> <td>   -0.257</td> <td>   -0.209</td>\n",
       "</tr>\n",
       "<tr>\n",
       "  <th>running_position_3</th> <td>    0.6206</td> <td>    0.006</td> <td>  104.027</td> <td> 0.000</td> <td>    0.609</td> <td>    0.632</td>\n",
       "</tr>\n",
       "<tr>\n",
       "  <th>running_position_4</th> <td>    0.2240</td> <td>    0.004</td> <td>   63.529</td> <td> 0.000</td> <td>    0.217</td> <td>    0.231</td>\n",
       "</tr>\n",
       "<tr>\n",
       "  <th>running_position_5</th> <td>    0.1083</td> <td>    0.006</td> <td>   17.944</td> <td> 0.000</td> <td>    0.096</td> <td>    0.120</td>\n",
       "</tr>\n",
       "<tr>\n",
       "  <th>running_position_6</th> <td>    0.0569</td> <td>    0.016</td> <td>    3.635</td> <td> 0.000</td> <td>    0.026</td> <td>    0.088</td>\n",
       "</tr>\n",
       "</table>\n",
       "<table class=\"simpletable\">\n",
       "<tr>\n",
       "  <th>Omnibus:</th>       <td>149.075</td> <th>  Durbin-Watson:     </th> <td>   1.220</td>\n",
       "</tr>\n",
       "<tr>\n",
       "  <th>Prob(Omnibus):</th> <td> 0.000</td>  <th>  Jarque-Bera (JB):  </th> <td> 151.821</td>\n",
       "</tr>\n",
       "<tr>\n",
       "  <th>Skew:</th>          <td>-0.170</td>  <th>  Prob(JB):          </th> <td>1.08e-33</td>\n",
       "</tr>\n",
       "<tr>\n",
       "  <th>Kurtosis:</th>      <td> 3.096</td>  <th>  Cond. No.          </th> <td>2.61e+04</td>\n",
       "</tr>\n",
       "</table>"
      ],
      "text/plain": [
       "<class 'statsmodels.iolib.summary.Summary'>\n",
       "\"\"\"\n",
       "                            OLS Regression Results                            \n",
       "==============================================================================\n",
       "Dep. Variable:     finishing_position   R-squared:                       0.547\n",
       "Model:                            OLS   Adj. R-squared:                  0.547\n",
       "Method:                 Least Squares   F-statistic:                     3934.\n",
       "Date:                Tue, 17 Apr 2018   Prob (F-statistic):               0.00\n",
       "Time:                        22:03:35   Log-Likelihood:                -68670.\n",
       "No. Observations:               29364   AIC:                         1.374e+05\n",
       "Df Residuals:                   29354   BIC:                         1.374e+05\n",
       "Df Model:                           9                                         \n",
       "Covariance Type:            nonrobust                                         \n",
       "======================================================================================\n",
       "                         coef    std err          t      P>|t|      [0.025      0.975]\n",
       "--------------------------------------------------------------------------------------\n",
       "Intercept             -0.3145      0.309     -1.017      0.309      -0.921       0.292\n",
       "win_odds               0.0359      0.001     70.354      0.000       0.035       0.037\n",
       "total_weight           0.0024      0.000      9.960      0.000       0.002       0.003\n",
       "horse_number           0.0036      0.004      0.906      0.365      -0.004       0.012\n",
       "running_position_1    -0.0837      0.011     -7.658      0.000      -0.105      -0.062\n",
       "running_position_2    -0.2329      0.012    -19.086      0.000      -0.257      -0.209\n",
       "running_position_3     0.6206      0.006    104.027      0.000       0.609       0.632\n",
       "running_position_4     0.2240      0.004     63.529      0.000       0.217       0.231\n",
       "running_position_5     0.1083      0.006     17.944      0.000       0.096       0.120\n",
       "running_position_6     0.0569      0.016      3.635      0.000       0.026       0.088\n",
       "==============================================================================\n",
       "Omnibus:                      149.075   Durbin-Watson:                   1.220\n",
       "Prob(Omnibus):                  0.000   Jarque-Bera (JB):              151.821\n",
       "Skew:                          -0.170   Prob(JB):                     1.08e-33\n",
       "Kurtosis:                       3.096   Cond. No.                     2.61e+04\n",
       "==============================================================================\n",
       "\n",
       "Warnings:\n",
       "[1] Standard Errors assume that the covariance matrix of the errors is correctly specified.\n",
       "[2] The condition number is large, 2.61e+04. This might indicate that there are\n",
       "strong multicollinearity or other numerical problems.\n",
       "\"\"\""
      ]
     },
     "execution_count": 69,
     "metadata": {},
     "output_type": "execute_result"
    }
   ],
   "source": [
    "#build OLS model\n",
    "model1 = smf.ols('finishing_position ~ win_odds + total_weight + horse_number + running_position_1 + running_position_2 + running_position_3 + running_position_4 + running_position_5 + running_position_6', data=df_races).fit()\n",
    "model1.summary()"
   ]
  },
  {
   "cell_type": "code",
   "execution_count": 70,
   "metadata": {},
   "outputs": [
    {
     "data": {
      "text/plain": [
       "finishing_position       1.000000\n",
       "horse_number             0.124024\n",
       "actual_weight           -0.108458\n",
       "declared_horse_weight   -0.046671\n",
       "running_position_1       0.221615\n",
       "running_position_2       0.275519\n",
       "running_position_3       0.571582\n",
       "running_position_4       0.435506\n",
       "win_odds                 0.481853\n",
       "running_position_5       0.159878\n",
       "running_position_6       0.045077\n",
       "total_weight            -0.057438\n",
       "Name: finishing_position, dtype: float64"
      ]
     },
     "execution_count": 70,
     "metadata": {},
     "output_type": "execute_result"
    }
   ],
   "source": [
    "#Examine how factors are correlated\n",
    "df_races.corr()['finishing_position']"
   ]
  },
  {
   "cell_type": "code",
   "execution_count": null,
   "metadata": {
    "collapsed": true
   },
   "outputs": [],
   "source": []
  }
 ],
 "metadata": {
  "kernelspec": {
   "display_name": "Python 3",
   "language": "python",
   "name": "python3"
  },
  "language_info": {
   "codemirror_mode": {
    "name": "ipython",
    "version": 3
   },
   "file_extension": ".py",
   "mimetype": "text/x-python",
   "name": "python",
   "nbconvert_exporter": "python",
   "pygments_lexer": "ipython3",
   "version": "3.6.1"
  }
 },
 "nbformat": 4,
 "nbformat_minor": 2
}
